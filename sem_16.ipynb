{
 "cells": [
  {
   "cell_type": "code",
   "execution_count": 42,
   "id": "93e66159",
   "metadata": {},
   "outputs": [
    {
     "name": "stdout",
     "output_type": "stream",
     "text": [
      "\n",
      "T.A. Mroz (1987), \"The Sensitivity of an Empirical Model of Married Women's\n",
      "Hours of Work to Economic and Statistical Assumptions,\" Econometrica 55,\n",
      "765-799.\n",
      "\n",
      "nlf        1 if in labor force, 1975\n",
      "hours      hours worked, 1975\n",
      "kidslt6    # kids < 6 years\n",
      "kidsge6    # kids 6-18\n",
      "age        woman's age in yrs\n",
      "educ       years of schooling\n",
      "wage       estimated wage from earns., hours\n",
      "repwage    reported wage at interview in 1976\n",
      "hushrs     hours worked by husband, 1975\n",
      "husage     husband's age\n",
      "huseduc    husband's years of schooling\n",
      "huswage    husband's hourly wage, 1975\n",
      "faminc     family income, 1975\n",
      "mtr        fed. marginal tax rate facing woman\n",
      "motheduc   mother's years of schooling\n",
      "fatheduc   father's years of schooling\n",
      "unem       unem. rate in county of resid.\n",
      "city       =1 if live in SMSA\n",
      "exper      actual labor mkt exper\n",
      "nwifeinc   (faminc - wage*hours)/1000\n",
      "lwage      log(wage)\n",
      "expersq    exper^2\n",
      "\n",
      "     const  inlf  hours  kidslt6  kidsge6  age  educ    wage  repwage  hushrs  \\\n",
      "0      1.0     1   1610        1        0   32    12  3.3540     2.65    2708   \n",
      "1      1.0     1   1656        0        2   30    12  1.3889     2.65    2310   \n",
      "2      1.0     1   1980        1        3   35    12  4.5455     4.04    3072   \n",
      "3      1.0     1    456        0        3   34    12  1.0965     3.25    1920   \n",
      "4      1.0     1   1568        1        2   31    14  4.5918     3.60    2000   \n",
      "..     ...   ...    ...      ...      ...  ...   ...     ...      ...     ...   \n",
      "748    1.0     0      0        0        2   40    13     NaN     0.00    3020   \n",
      "749    1.0     0      0        2        3   31    12     NaN     0.00    2056   \n",
      "750    1.0     0      0        0        0   43    12     NaN     0.00    2383   \n",
      "751    1.0     0      0        0        0   60    12     NaN     0.00    1705   \n",
      "752    1.0     0      0        0        3   39     9     NaN     0.00    3120   \n",
      "\n",
      "     ...  faminc     mtr  motheduc  fatheduc  unem  city  exper   nwifeinc  \\\n",
      "0    ...   16310  0.7215        12         7   5.0     0     14  10.910060   \n",
      "1    ...   21800  0.6615         7         7  11.0     1      5  19.499980   \n",
      "2    ...   21040  0.6915        12         7   5.0     0     15  12.039910   \n",
      "3    ...    7300  0.7815         7         7   5.0     0      6   6.799996   \n",
      "4    ...   27300  0.6215        12        14   9.5     1      7  20.100060   \n",
      "..   ...     ...     ...       ...       ...   ...   ...    ...        ...   \n",
      "748  ...   28200  0.6215        10        10   9.5     1      5  28.200000   \n",
      "749  ...   10000  0.7715        12        12   7.5     0     14  10.000000   \n",
      "750  ...    9952  0.7515        10         3   7.5     0      4   9.952000   \n",
      "751  ...   24984  0.6215        12        12  14.0     1     15  24.984000   \n",
      "752  ...   28363  0.6915         7         7  11.0     1     12  28.363000   \n",
      "\n",
      "        lwage  expersq  \n",
      "0    1.210154      196  \n",
      "1    0.328512       25  \n",
      "2    1.514138      225  \n",
      "3    0.092123       36  \n",
      "4    1.524272       49  \n",
      "..        ...      ...  \n",
      "748       NaN       25  \n",
      "749       NaN      196  \n",
      "750       NaN       16  \n",
      "751       NaN      225  \n",
      "752       NaN      144  \n",
      "\n",
      "[753 rows x 23 columns]\n"
     ]
    },
    {
     "name": "stderr",
     "output_type": "stream",
     "text": [
      "/Users/polinapogorelova/opt/anaconda3/lib/python3.9/site-packages/statsmodels/tsa/tsatools.py:142: FutureWarning: In a future version of pandas all arguments of concat except for the argument 'objs' will be keyword-only\n",
      "  x = pd.concat(x[::order], 1)\n"
     ]
    }
   ],
   "source": [
    "# Семинар 16: эндогенность и тестирование инструментов\n",
    "import numpy as np\n",
    "from linearmodels.datasets import mroz\n",
    "from statsmodels.api import add_constant\n",
    "\n",
    "print(mroz.DESCR)\n",
    "data = mroz.load()\n",
    "data = add_constant(data, has_constant=\"add\")\n",
    "print(data)"
   ]
  },
  {
   "cell_type": "code",
   "execution_count": 48,
   "id": "1e0e5abc",
   "metadata": {},
   "outputs": [
    {
     "name": "stdout",
     "output_type": "stream",
     "text": [
      "                            OLS Estimation Summary                            \n",
      "==============================================================================\n",
      "Dep. Variable:                  lwage   R-squared:                      0.1179\n",
      "Estimator:                        OLS   Adj. R-squared:                 0.1158\n",
      "No. Observations:                 428   F-statistic:                    57.196\n",
      "Date:                Mon, Jan 23 2023   P-value (F-stat)                0.0000\n",
      "Time:                        11:10:11   Distribution:                  chi2(1)\n",
      "Cov. Estimator:            unadjusted                                         \n",
      "                                                                              \n",
      "                             Parameter Estimates                              \n",
      "==============================================================================\n",
      "            Parameter  Std. Err.     T-stat    P-value    Lower CI    Upper CI\n",
      "------------------------------------------------------------------------------\n",
      "const         -0.1852     0.1848    -1.0022     0.3163     -0.5474      0.1770\n",
      "educ           0.1086     0.0144     7.5628     0.0000      0.0805      0.1368\n",
      "==============================================================================\n"
     ]
    }
   ],
   "source": [
    "# Для начала оценим модель для зарплаты, игнорирую эндогенность переменной educ, с помошью МНК\n",
    "from linearmodels.iv import IV2SLS\n",
    "\n",
    "res_ols = IV2SLS(data.lwage, data[[\"const\", \"educ\"]], None, None).fit(\n",
    "    cov_type=\"unadjusted\"\n",
    ")\n",
    "print(res_ols)"
   ]
  },
  {
   "cell_type": "code",
   "execution_count": 49,
   "id": "012f3b0b",
   "metadata": {},
   "outputs": [
    {
     "name": "stdout",
     "output_type": "stream",
     "text": [
      "                            OLS Estimation Summary                            \n",
      "==============================================================================\n",
      "Dep. Variable:                   educ   R-squared:                      0.1958\n",
      "Estimator:                        OLS   Adj. R-squared:                 0.1947\n",
      "No. Observations:                 753   F-statistic:                    183.30\n",
      "Date:                Mon, Jan 23 2023   P-value (F-stat)                0.0000\n",
      "Time:                        11:11:09   Distribution:                  chi2(1)\n",
      "Cov. Estimator:            unadjusted                                         \n",
      "                                                                              \n",
      "                             Parameter Estimates                              \n",
      "==============================================================================\n",
      "            Parameter  Std. Err.     T-stat    P-value    Lower CI    Upper CI\n",
      "------------------------------------------------------------------------------\n",
      "const          9.7990     0.1983     49.422     0.0000      9.4104      10.188\n",
      "fatheduc       0.2824     0.0209     13.539     0.0000      0.2415      0.3233\n",
      "==============================================================================\n"
     ]
    }
   ],
   "source": [
    "# Теперь учтем эндогенность переменной educ, и реализуем для нее метод инструментальных переменных, рассмотрев в качестве \n",
    "# инструмента переменную fathereduc (образование отца, в годах)\n",
    "\n",
    "# Проделаем вручную первый шаг из двухшаговой процедуры МНК, чтобы првоерить инструменты на релевантность\n",
    "# Шаг 1: оценим регрессию эндогенной переменной educ на инструмент fathereduc\n",
    "res_first = IV2SLS(data.educ, data[[\"const\", \"fatheduc\"]], None, None).fit(\n",
    "    cov_type=\"unadjusted\"\n",
    ")\n",
    "print(res_first)"
   ]
  },
  {
   "cell_type": "code",
   "execution_count": 54,
   "id": "cd194407",
   "metadata": {},
   "outputs": [
    {
     "name": "stdout",
     "output_type": "stream",
     "text": [
      "                          IV-2SLS Estimation Summary                          \n",
      "==============================================================================\n",
      "Dep. Variable:                  lwage   R-squared:                      0.0934\n",
      "Estimator:                    IV-2SLS   Adj. R-squared:                 0.0913\n",
      "No. Observations:                 428   F-statistic:                    2.8487\n",
      "Date:                Mon, Jan 23 2023   P-value (F-stat)                0.0915\n",
      "Time:                        11:12:17   Distribution:                  chi2(1)\n",
      "Cov. Estimator:            unadjusted                                         \n",
      "                                                                              \n",
      "                             Parameter Estimates                              \n",
      "==============================================================================\n",
      "            Parameter  Std. Err.     T-stat    P-value    Lower CI    Upper CI\n",
      "------------------------------------------------------------------------------\n",
      "const          0.4411     0.4451     0.9911     0.3216     -0.4312      1.3134\n",
      "educ           0.0592     0.0351     1.6878     0.0915     -0.0095      0.1279\n",
      "==============================================================================\n",
      "\n",
      "Endogenous: educ\n",
      "Instruments: fatheduc\n",
      "Unadjusted Covariance (Homoskedastic)\n",
      "Debiased: False\n"
     ]
    }
   ],
   "source": [
    "# Теперь автоматически оценим параметры с помощью МИП\n",
    "\n",
    "res_iv = IV2SLS(data.lwage, data.const, data.educ, data.fatheduc).fit(\n",
    "    cov_type = \"unadjusted\"\n",
    ")\n",
    "print(res_second)"
   ]
  },
  {
   "cell_type": "code",
   "execution_count": 55,
   "id": "fd2af709",
   "metadata": {},
   "outputs": [
    {
     "name": "stdout",
     "output_type": "stream",
     "text": [
      "Wu-Hausman test of exogeneity\n",
      "H0: All endogenous variables are exogenous\n",
      "Statistic: 2.4703\n",
      "P-value: 0.1168\n",
      "Distributed: F(1,425)\n"
     ]
    }
   ],
   "source": [
    "# Проверим инструменты на валидность с помощью теста Ву-Хаусмана\n",
    "\n",
    "print(res_second.wu_hausman())\n",
    "\n",
    "# Основная гипотеза об экзогенности инструментов не отвергается, значит, мы выбрали подходящие инструменты."
   ]
  },
  {
   "cell_type": "code",
   "execution_count": 37,
   "id": "c8967922",
   "metadata": {},
   "outputs": [],
   "source": [
    "# Теперь попробуем использовать два инструмента motheduc и fatheduc для эндогенной переменной educ\n",
    "\n",
    "endog = [\"educ\"]\n",
    "exog = [\"const\"]\n",
    "instr = [\"motheduc\",\n",
    "         \"fatheduc\"]"
   ]
  },
  {
   "cell_type": "code",
   "execution_count": 56,
   "id": "3a5ca858",
   "metadata": {},
   "outputs": [
    {
     "name": "stdout",
     "output_type": "stream",
     "text": [
      "                            OLS Estimation Summary                            \n",
      "==============================================================================\n",
      "Dep. Variable:                   educ   R-squared:                      0.2450\n",
      "Estimator:                        OLS   Adj. R-squared:                 0.2430\n",
      "No. Observations:                 753   F-statistic:                    244.31\n",
      "Date:                Mon, Jan 23 2023   P-value (F-stat)                0.0000\n",
      "Time:                        11:20:01   Distribution:                  chi2(2)\n",
      "Cov. Estimator:            unadjusted                                         \n",
      "                                                                              \n",
      "                             Parameter Estimates                              \n",
      "==============================================================================\n",
      "            Parameter  Std. Err.     T-stat    P-value    Lower CI    Upper CI\n",
      "------------------------------------------------------------------------------\n",
      "motheduc       0.1833     0.0262     7.0049     0.0000      0.1320      0.2346\n",
      "fatheduc       0.1834     0.0247     7.4366     0.0000      0.1351      0.2318\n",
      "const          8.9757     0.2252     39.853     0.0000      8.5342      9.4171\n",
      "==============================================================================\n"
     ]
    }
   ],
   "source": [
    "# Реализуем двухшаговый МНК\n",
    "\n",
    "# Шаг 1: оценим регрессию эндогенной переменной educ на инструменты motheduc и fathereduc\n",
    "res_first_2ols = IV2SLS(data.educ, data[instr+exog], None, None).fit(\n",
    "    cov_type=\"unadjusted\"\n",
    ")\n",
    "print(res_first_2ols)"
   ]
  },
  {
   "cell_type": "code",
   "execution_count": 57,
   "id": "f2ab5fbe",
   "metadata": {},
   "outputs": [
    {
     "name": "stdout",
     "output_type": "stream",
     "text": [
      "                          IV-2SLS Estimation Summary                          \n",
      "==============================================================================\n",
      "Dep. Variable:                   wage   R-squared:                      0.0841\n",
      "Estimator:                    IV-2SLS   Adj. R-squared:                 0.0820\n",
      "No. Observations:                 428   F-statistic:                    2.4752\n",
      "Date:                Mon, Jan 23 2023   P-value (F-stat)                0.1157\n",
      "Time:                        11:20:24   Distribution:                  chi2(1)\n",
      "Cov. Estimator:            unadjusted                                         \n",
      "                                                                              \n",
      "                             Parameter Estimates                              \n",
      "==============================================================================\n",
      "            Parameter  Std. Err.     T-stat    P-value    Lower CI    Upper CI\n",
      "------------------------------------------------------------------------------\n",
      "const          0.5510     0.4076     1.3518     0.1764     -0.2479      1.3500\n",
      "educ           0.0505     0.0321     1.5733     0.1157     -0.0124      0.1134\n",
      "==============================================================================\n",
      "\n",
      "Endogenous: educ\n",
      "Instruments: motheduc, fatheduc\n",
      "Unadjusted Covariance (Homoskedastic)\n",
      "Debiased: False\n"
     ]
    }
   ],
   "source": [
    "# Получим 2OLS оценку параметров\n",
    "\n",
    "res_2ols = IV2SLS(np.log(data.wage), data[exog], data[endog], data[instr]).fit(\n",
    "    cov_type=\"unadjusted\"\n",
    ")\n",
    "print(res_2ols)"
   ]
  },
  {
   "cell_type": "code",
   "execution_count": 61,
   "id": "d6902ccf",
   "metadata": {},
   "outputs": [
    {
     "name": "stdout",
     "output_type": "stream",
     "text": [
      "Wu-Hausman test of exogeneity\n",
      "H0: All endogenous variables are exogenous\n",
      "Statistic: 4.3296\n",
      "P-value: 0.0381\n",
      "Distributed: F(1,425)\n"
     ]
    }
   ],
   "source": [
    "# Проверим:\n",
    "# 1) является ли эндогенной переменная educ с помощью процедуры Ву-Хаусмана (H0: переменная educ экзогенна, используем МНК-оценки)\n",
    "print(res_2ols.wu_hausman())\n",
    "\n",
    "# Основная гипотеза об экзогенности инструментов в обоих тестах отвергается на 1% уровне значимости, значит, мы выбрали подходящие инструменты."
   ]
  },
  {
   "cell_type": "code",
   "execution_count": 62,
   "id": "88ad03cb",
   "metadata": {},
   "outputs": [
    {
     "name": "stdout",
     "output_type": "stream",
     "text": [
      "                         Model Comparison                        \n",
      "=================================================================\n",
      "                                OLS             IV           2OLS\n",
      "-----------------------------------------------------------------\n",
      "Dep. Variable                 lwage          lwage           wage\n",
      "Estimator                       OLS        IV-2SLS        IV-2SLS\n",
      "No. Observations                428            428            428\n",
      "Cov. Est.                unadjusted     unadjusted     unadjusted\n",
      "R-squared                    0.1179         0.0934         0.0841\n",
      "Adj. R-squared               0.1158         0.0913         0.0820\n",
      "F-statistic                  57.196         2.8487         2.4752\n",
      "P-value (F-stat)          3.941e-14         0.0915         0.1157\n",
      "==================     ============   ============   ============\n",
      "const                       -0.1852         0.4411         0.5510\n",
      "                          (-1.0022)       (0.9911)       (1.3518)\n",
      "educ                         0.1086         0.0592         0.0505\n",
      "                           (7.5628)       (1.6878)       (1.5733)\n",
      "==================== ============== ============== ==============\n",
      "Instruments                               fatheduc       motheduc\n",
      "                                                         fatheduc\n",
      "-----------------------------------------------------------------\n",
      "\n",
      "T-stats reported in parentheses\n"
     ]
    }
   ],
   "source": [
    "# Для сравнения поместим результаты оценивания с помощью МНК и 2МНК в одун таблицу\n",
    "from linearmodels.iv import compare\n",
    "\n",
    "print(compare({\"OLS\": res_ols, \"IV\": res_iv, \"2OLS\": res_2ols}))"
   ]
  }
 ],
 "metadata": {
  "kernelspec": {
   "display_name": "Python 3 (ipykernel)",
   "language": "python",
   "name": "python3"
  },
  "language_info": {
   "codemirror_mode": {
    "name": "ipython",
    "version": 3
   },
   "file_extension": ".py",
   "mimetype": "text/x-python",
   "name": "python",
   "nbconvert_exporter": "python",
   "pygments_lexer": "ipython3",
   "version": "3.9.7"
  }
 },
 "nbformat": 4,
 "nbformat_minor": 5
}
