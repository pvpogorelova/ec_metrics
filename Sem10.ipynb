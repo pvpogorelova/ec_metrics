{
 "cells": [
  {
   "cell_type": "code",
   "execution_count": 1,
   "id": "9f79d307",
   "metadata": {},
   "outputs": [],
   "source": [
    "# Способы борьбы с мультиколлинеарностью: Ridge, LASSO, PCA\n",
    "\n",
    "import pandas as pd # работа с таблицами \n",
    "import numpy as np # математические функции и матрицы\n",
    "import matplotlib.pyplot as plt # графики\n",
    "import seaborn as sns # еще более классные графики\n",
    "import statsmodels.api as sm # стандартные регрессионные модели\n",
    "import statsmodels.formula.api as smf # аналогичные модели с синтаксисом в стиле R\n",
    "import statsmodels.graphics.gofplots as gf # визуализация моделей\n",
    "from statsmodels.stats.outliers_influence import summary_table # работа с выбросами\n",
    "from scipy.stats import shapiro # тест Шапиро – Уилка \n",
    "from sklearn.decomposition import PCA # функция PCA, вычисляющая главные компоненты\n",
    "from sklearn.preprocessing import StandardScaler # стандартизация признаков\n",
    "from sklearn.linear_model import ElasticNetCV, ElasticNet # Ridge, LASSO"
   ]
  },
  {
   "cell_type": "code",
   "execution_count": 2,
   "id": "e1c80673",
   "metadata": {},
   "outputs": [
    {
     "name": "stdout",
     "output_type": "stream",
     "text": [
      "Requirement already satisfied: rdatasets in ./opt/anaconda3/lib/python3.9/site-packages (0.1.0)\n",
      "Requirement already satisfied: pandas in ./opt/anaconda3/lib/python3.9/site-packages (from rdatasets) (1.3.4)\n",
      "Requirement already satisfied: python-dateutil>=2.7.3 in ./opt/anaconda3/lib/python3.9/site-packages (from pandas->rdatasets) (2.8.2)\n",
      "Requirement already satisfied: pytz>=2017.3 in ./opt/anaconda3/lib/python3.9/site-packages (from pandas->rdatasets) (2021.3)\n",
      "Requirement already satisfied: numpy>=1.17.3 in ./opt/anaconda3/lib/python3.9/site-packages (from pandas->rdatasets) (1.20.3)\n",
      "Requirement already satisfied: six>=1.5 in ./opt/anaconda3/lib/python3.9/site-packages (from python-dateutil>=2.7.3->pandas->rdatasets) (1.16.0)\n"
     ]
    }
   ],
   "source": [
    "get_ipython().system('pip install rdatasets') # наборы данных\n",
    "# !pip install pyreadstat # чтение spss/stata данных\n",
    "from rdatasets import data \n",
    "# from pyreadstat import read_sav, set_value_labels"
   ]
  },
  {
   "cell_type": "code",
   "execution_count": 3,
   "id": "1bda0569",
   "metadata": {},
   "outputs": [
    {
     "data": {
      "text/plain": [
       "<seaborn.axisgrid.FacetGrid at 0x7fd4ba642580>"
      ]
     },
     "execution_count": 3,
     "metadata": {},
     "output_type": "execute_result"
    },
    {
     "data": {
      "image/png": "[encoded data removed]",
      "text/plain": [
       "<Figure size 360x360 with 1 Axes>"
      ]
     },
     "metadata": {
      "needs_background": "light"
     },
     "output_type": "display_data"
    }
   ],
   "source": [
    "# LASSO\n",
    "cars = data('cars')\n",
    "sns.relplot(data=cars, x='speed', y='dist')"
   ]
  },
  {
   "cell_type": "code",
   "execution_count": 4,
   "id": "34d76c2d",
   "metadata": {},
   "outputs": [],
   "source": [
    "# Предположив по графику присутствие нелинейной зависимости между dist и speed, добавим новые переменные\n",
    "cars['speed2'] = cars['speed'] ** 2\n",
    "cars['speed3'] = cars['speed'] ** 3"
   ]
  },
  {
   "cell_type": "code",
   "execution_count": 5,
   "id": "b4d8885a",
   "metadata": {},
   "outputs": [],
   "source": [
    "# Стандартизируем объясняющие и зависимую переменные (среднее = 0, стандартное отклонение = 1)\n",
    "all_scaled = StandardScaler().fit_transform(cars)\n",
    "\n",
    "# Определим стандартизирвоанную зависимую переменную в вектор y, а объясняющие стандартизирвоанные переменные - в матрицу X\n",
    "y = all_scaled[:, 1]\n",
    "X = all_scaled[:, [0, 2, 3]]\n",
    "\n",
    "# В вектор y_unscaled положим исходную переменную dist\n",
    "y_unscaled = cars['dist']"
   ]
  },
  {
   "cell_type": "code",
   "execution_count": 44,
   "id": "04f483fc",
   "metadata": {},
   "outputs": [],
   "source": [
    "# Оценим LASSO при lambda (alpha) = 0.1\n",
    "from sklearn.linear_model import Lasso\n",
    "\n",
    "model = Lasso(alpha=0.1, fit_intercept=True, max_iter = 100000).fit(X, y_unscaled)"
   ]
  },
  {
   "cell_type": "code",
   "execution_count": 45,
   "id": "38982a3e",
   "metadata": {},
   "outputs": [
    {
     "data": {
      "text/plain": [
       "0.1"
      ]
     },
     "execution_count": 45,
     "metadata": {},
     "output_type": "execute_result"
    }
   ],
   "source": [
    "model.alpha"
   ]
  },
  {
   "cell_type": "code",
   "execution_count": 46,
   "id": "1ab38411",
   "metadata": {},
   "outputs": [
    {
     "data": {
      "text/plain": [
       "array([11.02616582,  0.        , 10.0723411 ])"
      ]
     },
     "execution_count": 46,
     "metadata": {},
     "output_type": "execute_result"
    }
   ],
   "source": [
    "# Выведем оценки коэффициентов модели\n",
    "model.coef_"
   ]
  },
  {
   "cell_type": "code",
   "execution_count": 47,
   "id": "30bfd06c",
   "metadata": {},
   "outputs": [
    {
     "data": {
      "text/plain": [
       "42.98"
      ]
     },
     "execution_count": 47,
     "metadata": {},
     "output_type": "execute_result"
    }
   ],
   "source": [
    "# Оценка константы\n",
    "model.intercept_"
   ]
  },
  {
   "cell_type": "code",
   "execution_count": 48,
   "id": "d8e531c3",
   "metadata": {},
   "outputs": [],
   "source": [
    "# Теперь посмотрим как изменятся оценки коэффициентов, перебирая разные lambda (alpha)\n",
    "alphas = [0.0001, 0.001, 0.01, 0.1, 1]\n",
    "models = [Lasso(alpha, fit_intercept=True, max_iter = 100000).fit(X, y_unscaled) for alpha in alphas]"
   ]
  },
  {
   "cell_type": "code",
   "execution_count": 49,
   "id": "a0cbb0be",
   "metadata": {},
   "outputs": [
    {
     "data": {
      "text/plain": [
       "[array([ 35.47502477, -56.15085402,  42.71647696]),\n",
       " array([ 34.34686686, -53.55500363,  41.2090767 ]),\n",
       " array([ 23.0756748 , -27.62022455,  26.14877112]),\n",
       " array([11.02616582,  0.        , 10.0723411 ]),\n",
       " array([10.56215652,  0.        ,  9.60801041])]"
      ]
     },
     "execution_count": 49,
     "metadata": {},
     "output_type": "execute_result"
    }
   ],
   "source": [
    "betas_hat = [model.coef_ for model in models]\n",
    "betas_hat"
   ]
  },
  {
   "cell_type": "code",
   "execution_count": 79,
   "id": "849911f5",
   "metadata": {},
   "outputs": [
    {
     "name": "stdout",
     "output_type": "stream",
     "text": [
      "0.160001\n"
     ]
    }
   ],
   "source": [
    "# А теперь попробуем определить оптимальное значение для lambda (alpha), перебирая ее значения от 0.000001 до 1 с шагом 0.01,\n",
    "# используя алгоритм кросс-валидации (разобъем нашу выборку на 10 равнхы подвыборок, то есть cv=10)\n",
    "from sklearn.linear_model import LassoCV\n",
    "more_alphas = np.arange(0.000001, 1, 0.01)\n",
    "fit_lr = LassoCV(alphas=more_alphas, cv=10, max_iter=1000000).fit(X, y_unscaled)\n",
    "print(fit_lr.alpha_)"
   ]
  },
  {
   "cell_type": "code",
   "execution_count": 80,
   "id": "0f967f63",
   "metadata": {},
   "outputs": [
    {
     "name": "stdout",
     "output_type": "stream",
     "text": [
      "[10.99468671  0.         10.04189658]\n",
      "42.98\n"
     ]
    }
   ],
   "source": [
    "# Оценим LASSO при оптимальном значении lambda(alpha)=0.160001\n",
    "lasso_best = Lasso(alpha=fit_lr.alpha_, fit_intercept=True).fit(X, y_unscaled)\n",
    "print(lasso_best.coef_) # выведем оценки коэффициентом модели\n",
    "print(lasso_best.intercept_) # а также оценку константы в модели"
   ]
  },
  {
   "cell_type": "code",
   "execution_count": 81,
   "id": "2bf1a484",
   "metadata": {},
   "outputs": [
    {
     "data": {
      "text/plain": [
       "array([  729.64012768, 10194.82344285])"
      ]
     },
     "execution_count": 81,
     "metadata": {},
     "output_type": "execute_result"
    }
   ],
   "source": [
    "# Построим прогноз по модели для двух новых наблюдений speed = 10 и speed = 20\n",
    "new = [[4, 16, 64], [10, 100, 1000]]\n",
    "lasso_best.predict(new)"
   ]
  },
  {
   "cell_type": "code",
   "execution_count": 82,
   "id": "a756ce27",
   "metadata": {},
   "outputs": [],
   "source": [
    "# Теперь перейдем к Ridge-регрессии\n",
    "# Оценим ридж-регрессию для lambda(alpha)=0.1\n",
    "from sklearn.linear_model import Ridge\n",
    "model_rr = Ridge(alpha=0.1, fit_intercept=True).fit(X, y_unscaled)"
   ]
  },
  {
   "cell_type": "code",
   "execution_count": 74,
   "id": "d6a58029",
   "metadata": {},
   "outputs": [
    {
     "data": {
      "text/plain": [
       "array([13.23071552, -4.97955278, 12.99826117])"
      ]
     },
     "execution_count": 74,
     "metadata": {},
     "output_type": "execute_result"
    }
   ],
   "source": [
    "model_rr.coef_"
   ]
  },
  {
   "cell_type": "code",
   "execution_count": 75,
   "id": "90350a6b",
   "metadata": {},
   "outputs": [
    {
     "data": {
      "text/plain": [
       "42.98"
      ]
     },
     "execution_count": 75,
     "metadata": {},
     "output_type": "execute_result"
    }
   ],
   "source": [
    "model_rr.intercept_"
   ]
  },
  {
   "cell_type": "code",
   "execution_count": 83,
   "id": "f91a491a",
   "metadata": {},
   "outputs": [
    {
     "name": "stdout",
     "output_type": "stream",
     "text": [
      "0.990001\n"
     ]
    }
   ],
   "source": [
    "from sklearn.linear_model import RidgeCV\n",
    "more_alphas = np.arange(0.000001, 1, 0.01)\n",
    "fit_rr = RidgeCV(alphas=more_alphas, cv=10).fit(X, y_unscaled)\n",
    "print(fit_rr.alpha_)"
   ]
  },
  {
   "cell_type": "code",
   "execution_count": 78,
   "id": "0da3bf03",
   "metadata": {},
   "outputs": [
    {
     "data": {
      "text/plain": [
       "0.990001"
      ]
     },
     "execution_count": 78,
     "metadata": {},
     "output_type": "execute_result"
    }
   ],
   "source": [
    "fit_rr.alpha_"
   ]
  },
  {
   "cell_type": "code",
   "execution_count": 84,
   "id": "1cd5ae05",
   "metadata": {},
   "outputs": [
    {
     "data": {
      "text/plain": [
       "array([8.39242819, 5.51740076, 7.05215417])"
      ]
     },
     "execution_count": 84,
     "metadata": {},
     "output_type": "execute_result"
    }
   ],
   "source": [
    "fit_rr.coef_"
   ]
  },
  {
   "cell_type": "code",
   "execution_count": 85,
   "id": "5b6f879d",
   "metadata": {},
   "outputs": [
    {
     "data": {
      "text/plain": [
       "42.98"
      ]
     },
     "execution_count": 85,
     "metadata": {},
     "output_type": "execute_result"
    }
   ],
   "source": [
    "fit_rr.intercept_"
   ]
  },
  {
   "cell_type": "code",
   "execution_count": 86,
   "id": "26101caf",
   "metadata": {},
   "outputs": [
    {
     "name": "stdout",
     "output_type": "stream",
     "text": [
      "[8.39242819 5.51740076 7.05215417]\n",
      "42.98\n"
     ]
    }
   ],
   "source": [
    "# Оценим Ridge при оптимальном значении lambda(alpha)=0.0.990001\n",
    "ridge_best = Ridge(alpha=fit_rr.alpha_, fit_intercept=True).fit(X, y_unscaled)\n",
    "print(ridge_best.coef_) # выведем оценки коэффициентом модели\n",
    "print(ridge_best.intercept_) # а также оценку константы в модели"
   ]
  },
  {
   "cell_type": "code",
   "execution_count": 87,
   "id": "6280afca",
   "metadata": {},
   "outputs": [
    {
     "data": {
      "text/plain": [
       "array([ 616.16599193, 7730.79852963])"
      ]
     },
     "execution_count": 87,
     "metadata": {},
     "output_type": "execute_result"
    }
   ],
   "source": [
    "# Построим прогноз по модели для двух новых наблюдений speed = 10 и speed = 20\n",
    "new = [[4, 16, 64], [10, 100, 1000]]\n",
    "ridge_best.predict(new)"
   ]
  },
  {
   "cell_type": "code",
   "execution_count": null,
   "id": "9940288d",
   "metadata": {},
   "outputs": [],
   "source": [
    "# Метод главных компонент (Principal Component Analysis)\n",
    "\n",
    "data = pd.read_excel('/Users/polinapogorelova/Desktop/Метрика_ИП/Данные/dataflats.xlsx')"
   ]
  },
  {
   "cell_type": "code",
   "execution_count": null,
   "id": "069b9019",
   "metadata": {},
   "outputs": [],
   "source": [
    "data.head()"
   ]
  },
  {
   "cell_type": "code",
   "execution_count": 97,
   "id": "09aca968",
   "metadata": {},
   "outputs": [
    {
     "data": {
      "text/html": [
       "<div>\n",
       "<style scoped>\n",
       "    .dataframe tbody tr th:only-of-type {\n",
       "        vertical-align: middle;\n",
       "    }\n",
       "\n",
       "    .dataframe tbody tr th {\n",
       "        vertical-align: top;\n",
       "    }\n",
       "\n",
       "    .dataframe thead th {\n",
       "        text-align: right;\n",
       "    }\n",
       "</style>\n",
       "<table border=\"1\" class=\"dataframe\">\n",
       "  <thead>\n",
       "    <tr style=\"text-align: right;\">\n",
       "      <th></th>\n",
       "      <th>price</th>\n",
       "      <th>totsp</th>\n",
       "      <th>livesp</th>\n",
       "      <th>kitsp</th>\n",
       "      <th>dist</th>\n",
       "      <th>metrdist</th>\n",
       "      <th>walk</th>\n",
       "      <th>brick</th>\n",
       "      <th>floor</th>\n",
       "      <th>factor</th>\n",
       "      <th>price_sq</th>\n",
       "    </tr>\n",
       "  </thead>\n",
       "  <tbody>\n",
       "    <tr>\n",
       "      <th>0</th>\n",
       "      <td>81</td>\n",
       "      <td>58</td>\n",
       "      <td>40</td>\n",
       "      <td>6.0</td>\n",
       "      <td>12.5</td>\n",
       "      <td>7</td>\n",
       "      <td>1</td>\n",
       "      <td>1</td>\n",
       "      <td>1</td>\n",
       "      <td>кирпич</td>\n",
       "      <td>1.396552</td>\n",
       "    </tr>\n",
       "    <tr>\n",
       "      <th>1</th>\n",
       "      <td>75</td>\n",
       "      <td>44</td>\n",
       "      <td>28</td>\n",
       "      <td>6.0</td>\n",
       "      <td>13.5</td>\n",
       "      <td>7</td>\n",
       "      <td>1</td>\n",
       "      <td>0</td>\n",
       "      <td>1</td>\n",
       "      <td>не кирпич</td>\n",
       "      <td>1.704545</td>\n",
       "    </tr>\n",
       "    <tr>\n",
       "      <th>2</th>\n",
       "      <td>128</td>\n",
       "      <td>70</td>\n",
       "      <td>42</td>\n",
       "      <td>6.0</td>\n",
       "      <td>14.5</td>\n",
       "      <td>3</td>\n",
       "      <td>1</td>\n",
       "      <td>1</td>\n",
       "      <td>1</td>\n",
       "      <td>кирпич</td>\n",
       "      <td>1.828571</td>\n",
       "    </tr>\n",
       "    <tr>\n",
       "      <th>3</th>\n",
       "      <td>95</td>\n",
       "      <td>61</td>\n",
       "      <td>37</td>\n",
       "      <td>6.0</td>\n",
       "      <td>13.5</td>\n",
       "      <td>7</td>\n",
       "      <td>1</td>\n",
       "      <td>0</td>\n",
       "      <td>1</td>\n",
       "      <td>не кирпич</td>\n",
       "      <td>1.557377</td>\n",
       "    </tr>\n",
       "    <tr>\n",
       "      <th>4</th>\n",
       "      <td>330</td>\n",
       "      <td>104</td>\n",
       "      <td>60</td>\n",
       "      <td>11.0</td>\n",
       "      <td>10.5</td>\n",
       "      <td>7</td>\n",
       "      <td>0</td>\n",
       "      <td>1</td>\n",
       "      <td>1</td>\n",
       "      <td>кирпич</td>\n",
       "      <td>3.173077</td>\n",
       "    </tr>\n",
       "    <tr>\n",
       "      <th>...</th>\n",
       "      <td>...</td>\n",
       "      <td>...</td>\n",
       "      <td>...</td>\n",
       "      <td>...</td>\n",
       "      <td>...</td>\n",
       "      <td>...</td>\n",
       "      <td>...</td>\n",
       "      <td>...</td>\n",
       "      <td>...</td>\n",
       "      <td>...</td>\n",
       "      <td>...</td>\n",
       "    </tr>\n",
       "    <tr>\n",
       "      <th>2035</th>\n",
       "      <td>110</td>\n",
       "      <td>77</td>\n",
       "      <td>45</td>\n",
       "      <td>10.0</td>\n",
       "      <td>12.0</td>\n",
       "      <td>5</td>\n",
       "      <td>0</td>\n",
       "      <td>0</td>\n",
       "      <td>1</td>\n",
       "      <td>не кирпич</td>\n",
       "      <td>1.428571</td>\n",
       "    </tr>\n",
       "    <tr>\n",
       "      <th>2036</th>\n",
       "      <td>95</td>\n",
       "      <td>60</td>\n",
       "      <td>43</td>\n",
       "      <td>6.0</td>\n",
       "      <td>9.0</td>\n",
       "      <td>5</td>\n",
       "      <td>0</td>\n",
       "      <td>0</td>\n",
       "      <td>1</td>\n",
       "      <td>не кирпич</td>\n",
       "      <td>1.583333</td>\n",
       "    </tr>\n",
       "    <tr>\n",
       "      <th>2037</th>\n",
       "      <td>95</td>\n",
       "      <td>60</td>\n",
       "      <td>46</td>\n",
       "      <td>5.0</td>\n",
       "      <td>10.5</td>\n",
       "      <td>5</td>\n",
       "      <td>1</td>\n",
       "      <td>0</td>\n",
       "      <td>1</td>\n",
       "      <td>не кирпич</td>\n",
       "      <td>1.583333</td>\n",
       "    </tr>\n",
       "    <tr>\n",
       "      <th>2038</th>\n",
       "      <td>129</td>\n",
       "      <td>76</td>\n",
       "      <td>48</td>\n",
       "      <td>10.0</td>\n",
       "      <td>12.5</td>\n",
       "      <td>5</td>\n",
       "      <td>0</td>\n",
       "      <td>0</td>\n",
       "      <td>1</td>\n",
       "      <td>не кирпич</td>\n",
       "      <td>1.697368</td>\n",
       "    </tr>\n",
       "    <tr>\n",
       "      <th>2039</th>\n",
       "      <td>103</td>\n",
       "      <td>64</td>\n",
       "      <td>45</td>\n",
       "      <td>7.0</td>\n",
       "      <td>15.5</td>\n",
       "      <td>5</td>\n",
       "      <td>1</td>\n",
       "      <td>0</td>\n",
       "      <td>1</td>\n",
       "      <td>не кирпич</td>\n",
       "      <td>1.609375</td>\n",
       "    </tr>\n",
       "  </tbody>\n",
       "</table>\n",
       "<p>2040 rows × 11 columns</p>\n",
       "</div>"
      ],
      "text/plain": [
       "      price  totsp  livesp  kitsp  dist  metrdist  walk  brick  floor  \\\n",
       "0        81     58      40    6.0  12.5         7     1      1      1   \n",
       "1        75     44      28    6.0  13.5         7     1      0      1   \n",
       "2       128     70      42    6.0  14.5         3     1      1      1   \n",
       "3        95     61      37    6.0  13.5         7     1      0      1   \n",
       "4       330    104      60   11.0  10.5         7     0      1      1   \n",
       "...     ...    ...     ...    ...   ...       ...   ...    ...    ...   \n",
       "2035    110     77      45   10.0  12.0         5     0      0      1   \n",
       "2036     95     60      43    6.0   9.0         5     0      0      1   \n",
       "2037     95     60      46    5.0  10.5         5     1      0      1   \n",
       "2038    129     76      48   10.0  12.5         5     0      0      1   \n",
       "2039    103     64      45    7.0  15.5         5     1      0      1   \n",
       "\n",
       "         factor  price_sq  \n",
       "0        кирпич  1.396552  \n",
       "1     не кирпич  1.704545  \n",
       "2        кирпич  1.828571  \n",
       "3     не кирпич  1.557377  \n",
       "4        кирпич  3.173077  \n",
       "...         ...       ...  \n",
       "2035  не кирпич  1.428571  \n",
       "2036  не кирпич  1.583333  \n",
       "2037  не кирпич  1.583333  \n",
       "2038  не кирпич  1.697368  \n",
       "2039  не кирпич  1.609375  \n",
       "\n",
       "[2040 rows x 11 columns]"
      ]
     },
     "execution_count": 97,
     "metadata": {},
     "output_type": "execute_result"
    }
   ],
   "source": [
    "data['price_sq'] = data['price']/data['totsp']\n",
    "data"
   ]
  },
  {
   "cell_type": "code",
   "execution_count": 98,
   "id": "ab5a58f3",
   "metadata": {},
   "outputs": [],
   "source": [
    "features = ['totsp', 'livesp', 'kitsp', 'dist', 'metrdist'] # добавляем количественные регрессоры в отдельный список\n",
    "x = data[features] # отбираем признаки\n",
    "y = data['price_sq'] # выделяем целевую переменную\n",
    "x_scaled = StandardScaler().fit_transform(x) # стандартизируем регрессоры"
   ]
  },
  {
   "cell_type": "code",
   "execution_count": 99,
   "id": "14d8f330",
   "metadata": {},
   "outputs": [
    {
     "data": {
      "text/plain": [
       "0       1.396552\n",
       "1       1.704545\n",
       "2       1.828571\n",
       "3       1.557377\n",
       "4       3.173077\n",
       "          ...   \n",
       "2035    1.428571\n",
       "2036    1.583333\n",
       "2037    1.583333\n",
       "2038    1.697368\n",
       "2039    1.609375\n",
       "Name: price_sq, Length: 2040, dtype: float64"
      ]
     },
     "execution_count": 99,
     "metadata": {},
     "output_type": "execute_result"
    }
   ],
   "source": [
    "y"
   ]
  },
  {
   "cell_type": "code",
   "execution_count": 100,
   "id": "e24419d7",
   "metadata": {},
   "outputs": [
    {
     "data": {
      "text/plain": [
       "array([[-0.99765678, -0.80295532, -1.040579  ,  0.4398343 , -0.29286045],\n",
       "       [-1.92359847, -2.3234029 , -1.040579  ,  0.73615595, -0.29286045],\n",
       "       [-0.20399248, -0.54954739, -1.040579  ,  1.03247761, -1.34145247],\n",
       "       ...,\n",
       "       [-0.8653794 , -0.04273153, -1.39952069, -0.15280901, -0.81715646],\n",
       "       [ 0.19283968,  0.2106764 ,  0.39518776,  0.4398343 , -0.81715646],\n",
       "       [-0.60082463, -0.1694355 , -0.68163731,  1.32879926, -0.81715646]])"
      ]
     },
     "execution_count": 100,
     "metadata": {},
     "output_type": "execute_result"
    }
   ],
   "source": [
    "x_scaled"
   ]
  },
  {
   "cell_type": "code",
   "execution_count": 101,
   "id": "9f8cf621",
   "metadata": {},
   "outputs": [
    {
     "data": {
      "text/html": [
       "<div>\n",
       "<style scoped>\n",
       "    .dataframe tbody tr th:only-of-type {\n",
       "        vertical-align: middle;\n",
       "    }\n",
       "\n",
       "    .dataframe tbody tr th {\n",
       "        vertical-align: top;\n",
       "    }\n",
       "\n",
       "    .dataframe thead th {\n",
       "        text-align: right;\n",
       "    }\n",
       "</style>\n",
       "<table border=\"1\" class=\"dataframe\">\n",
       "  <thead>\n",
       "    <tr style=\"text-align: right;\">\n",
       "      <th></th>\n",
       "      <th>PC1</th>\n",
       "      <th>PC2</th>\n",
       "      <th>PC3</th>\n",
       "      <th>PC4</th>\n",
       "      <th>PC5</th>\n",
       "    </tr>\n",
       "  </thead>\n",
       "  <tbody>\n",
       "    <tr>\n",
       "      <th>0</th>\n",
       "      <td>-1.664595</td>\n",
       "      <td>-0.170182</td>\n",
       "      <td>-0.382594</td>\n",
       "      <td>-0.235535</td>\n",
       "      <td>-0.019761</td>\n",
       "    </tr>\n",
       "    <tr>\n",
       "      <th>1</th>\n",
       "      <td>-3.132676</td>\n",
       "      <td>-0.058395</td>\n",
       "      <td>-0.619063</td>\n",
       "      <td>0.778132</td>\n",
       "      <td>0.055991</td>\n",
       "    </tr>\n",
       "    <tr>\n",
       "      <th>2</th>\n",
       "      <td>-1.065828</td>\n",
       "      <td>-0.464760</td>\n",
       "      <td>-1.553843</td>\n",
       "      <td>-0.575355</td>\n",
       "      <td>0.440988</td>\n",
       "    </tr>\n",
       "    <tr>\n",
       "      <th>3</th>\n",
       "      <td>-1.802300</td>\n",
       "      <td>0.046424</td>\n",
       "      <td>-0.623437</td>\n",
       "      <td>-0.065274</td>\n",
       "      <td>0.324892</td>\n",
       "    </tr>\n",
       "    <tr>\n",
       "      <th>4</th>\n",
       "      <td>2.665792</td>\n",
       "      <td>-0.010419</td>\n",
       "      <td>-0.201316</td>\n",
       "      <td>-0.725857</td>\n",
       "      <td>0.426100</td>\n",
       "    </tr>\n",
       "    <tr>\n",
       "      <th>...</th>\n",
       "      <td>...</td>\n",
       "      <td>...</td>\n",
       "      <td>...</td>\n",
       "      <td>...</td>\n",
       "      <td>...</td>\n",
       "    </tr>\n",
       "    <tr>\n",
       "      <th>2035</th>\n",
       "      <td>0.275382</td>\n",
       "      <td>-0.316997</td>\n",
       "      <td>-0.834723</td>\n",
       "      <td>0.330752</td>\n",
       "      <td>0.149290</td>\n",
       "    </tr>\n",
       "    <tr>\n",
       "      <th>2036</th>\n",
       "      <td>-1.189425</td>\n",
       "      <td>-1.227353</td>\n",
       "      <td>0.013890</td>\n",
       "      <td>-0.328122</td>\n",
       "      <td>-0.077456</td>\n",
       "    </tr>\n",
       "    <tr>\n",
       "      <th>2037</th>\n",
       "      <td>-1.229762</td>\n",
       "      <td>-0.987383</td>\n",
       "      <td>-0.245725</td>\n",
       "      <td>-0.906326</td>\n",
       "      <td>-0.177236</td>\n",
       "    </tr>\n",
       "    <tr>\n",
       "      <th>2038</th>\n",
       "      <td>0.429200</td>\n",
       "      <td>-0.226317</td>\n",
       "      <td>-0.919538</td>\n",
       "      <td>0.076687</td>\n",
       "      <td>-0.109912</td>\n",
       "    </tr>\n",
       "    <tr>\n",
       "      <th>2039</th>\n",
       "      <td>-0.972193</td>\n",
       "      <td>0.127194</td>\n",
       "      <td>-1.410412</td>\n",
       "      <td>-0.544588</td>\n",
       "      <td>-0.201504</td>\n",
       "    </tr>\n",
       "  </tbody>\n",
       "</table>\n",
       "<p>2040 rows × 5 columns</p>\n",
       "</div>"
      ],
      "text/plain": [
       "           PC1       PC2       PC3       PC4       PC5\n",
       "0    -1.664595 -0.170182 -0.382594 -0.235535 -0.019761\n",
       "1    -3.132676 -0.058395 -0.619063  0.778132  0.055991\n",
       "2    -1.065828 -0.464760 -1.553843 -0.575355  0.440988\n",
       "3    -1.802300  0.046424 -0.623437 -0.065274  0.324892\n",
       "4     2.665792 -0.010419 -0.201316 -0.725857  0.426100\n",
       "...        ...       ...       ...       ...       ...\n",
       "2035  0.275382 -0.316997 -0.834723  0.330752  0.149290\n",
       "2036 -1.189425 -1.227353  0.013890 -0.328122 -0.077456\n",
       "2037 -1.229762 -0.987383 -0.245725 -0.906326 -0.177236\n",
       "2038  0.429200 -0.226317 -0.919538  0.076687 -0.109912\n",
       "2039 -0.972193  0.127194 -1.410412 -0.544588 -0.201504\n",
       "\n",
       "[2040 rows x 5 columns]"
      ]
     },
     "execution_count": 101,
     "metadata": {},
     "output_type": "execute_result"
    }
   ],
   "source": [
    "pca_model = PCA(n_components=5) # создаем 6 главныx компонент\n",
    "principalComponents = pca_model.fit_transform(x_scaled)\n",
    "principaldata = pd.DataFrame(data = principalComponents, columns = ['PC1', 'PC2', 'PC3', 'PC4', 'PC5']) # создаем таблицу, в которую сохраняем значения найденных компонент\n",
    "principaldata"
   ]
  },
  {
   "cell_type": "code",
   "execution_count": 102,
   "id": "20038c97",
   "metadata": {},
   "outputs": [
    {
     "data": {
      "text/plain": [
       "array([[-1.66459452, -0.17018166, -0.38259433, -0.23553509, -0.01976062],\n",
       "       [-3.13267558, -0.05839455, -0.6190627 ,  0.77813226,  0.05599062],\n",
       "       [-1.06582774, -0.4647602 , -1.55384348, -0.57535536,  0.4409881 ],\n",
       "       ...,\n",
       "       [-1.22976237, -0.98738285, -0.24572519, -0.9063262 , -0.17723567],\n",
       "       [ 0.42919957, -0.22631679, -0.91953842,  0.07668686, -0.10991179],\n",
       "       [-0.97219257,  0.12719381, -1.41041236, -0.54458839, -0.20150438]])"
      ]
     },
     "execution_count": 102,
     "metadata": {},
     "output_type": "execute_result"
    }
   ],
   "source": [
    "principalComponents"
   ]
  },
  {
   "cell_type": "code",
   "execution_count": 103,
   "id": "e25e5974",
   "metadata": {},
   "outputs": [
    {
     "data": {
      "text/html": [
       "<div>\n",
       "<style scoped>\n",
       "    .dataframe tbody tr th:only-of-type {\n",
       "        vertical-align: middle;\n",
       "    }\n",
       "\n",
       "    .dataframe tbody tr th {\n",
       "        vertical-align: top;\n",
       "    }\n",
       "\n",
       "    .dataframe thead th {\n",
       "        text-align: right;\n",
       "    }\n",
       "</style>\n",
       "<table border=\"1\" class=\"dataframe\">\n",
       "  <thead>\n",
       "    <tr style=\"text-align: right;\">\n",
       "      <th></th>\n",
       "      <th>PC1</th>\n",
       "      <th>PC2</th>\n",
       "      <th>PC3</th>\n",
       "      <th>PC4</th>\n",
       "      <th>PC5</th>\n",
       "      <th>price_sq</th>\n",
       "      <th>walk</th>\n",
       "    </tr>\n",
       "  </thead>\n",
       "  <tbody>\n",
       "    <tr>\n",
       "      <th>0</th>\n",
       "      <td>-1.664595</td>\n",
       "      <td>-0.170182</td>\n",
       "      <td>-0.382594</td>\n",
       "      <td>-0.235535</td>\n",
       "      <td>-0.019761</td>\n",
       "      <td>1.396552</td>\n",
       "      <td>1</td>\n",
       "    </tr>\n",
       "    <tr>\n",
       "      <th>1</th>\n",
       "      <td>-3.132676</td>\n",
       "      <td>-0.058395</td>\n",
       "      <td>-0.619063</td>\n",
       "      <td>0.778132</td>\n",
       "      <td>0.055991</td>\n",
       "      <td>1.704545</td>\n",
       "      <td>1</td>\n",
       "    </tr>\n",
       "    <tr>\n",
       "      <th>2</th>\n",
       "      <td>-1.065828</td>\n",
       "      <td>-0.464760</td>\n",
       "      <td>-1.553843</td>\n",
       "      <td>-0.575355</td>\n",
       "      <td>0.440988</td>\n",
       "      <td>1.828571</td>\n",
       "      <td>1</td>\n",
       "    </tr>\n",
       "    <tr>\n",
       "      <th>3</th>\n",
       "      <td>-1.802300</td>\n",
       "      <td>0.046424</td>\n",
       "      <td>-0.623437</td>\n",
       "      <td>-0.065274</td>\n",
       "      <td>0.324892</td>\n",
       "      <td>1.557377</td>\n",
       "      <td>1</td>\n",
       "    </tr>\n",
       "    <tr>\n",
       "      <th>4</th>\n",
       "      <td>2.665792</td>\n",
       "      <td>-0.010419</td>\n",
       "      <td>-0.201316</td>\n",
       "      <td>-0.725857</td>\n",
       "      <td>0.426100</td>\n",
       "      <td>3.173077</td>\n",
       "      <td>0</td>\n",
       "    </tr>\n",
       "    <tr>\n",
       "      <th>...</th>\n",
       "      <td>...</td>\n",
       "      <td>...</td>\n",
       "      <td>...</td>\n",
       "      <td>...</td>\n",
       "      <td>...</td>\n",
       "      <td>...</td>\n",
       "      <td>...</td>\n",
       "    </tr>\n",
       "    <tr>\n",
       "      <th>2035</th>\n",
       "      <td>0.275382</td>\n",
       "      <td>-0.316997</td>\n",
       "      <td>-0.834723</td>\n",
       "      <td>0.330752</td>\n",
       "      <td>0.149290</td>\n",
       "      <td>1.428571</td>\n",
       "      <td>0</td>\n",
       "    </tr>\n",
       "    <tr>\n",
       "      <th>2036</th>\n",
       "      <td>-1.189425</td>\n",
       "      <td>-1.227353</td>\n",
       "      <td>0.013890</td>\n",
       "      <td>-0.328122</td>\n",
       "      <td>-0.077456</td>\n",
       "      <td>1.583333</td>\n",
       "      <td>0</td>\n",
       "    </tr>\n",
       "    <tr>\n",
       "      <th>2037</th>\n",
       "      <td>-1.229762</td>\n",
       "      <td>-0.987383</td>\n",
       "      <td>-0.245725</td>\n",
       "      <td>-0.906326</td>\n",
       "      <td>-0.177236</td>\n",
       "      <td>1.583333</td>\n",
       "      <td>1</td>\n",
       "    </tr>\n",
       "    <tr>\n",
       "      <th>2038</th>\n",
       "      <td>0.429200</td>\n",
       "      <td>-0.226317</td>\n",
       "      <td>-0.919538</td>\n",
       "      <td>0.076687</td>\n",
       "      <td>-0.109912</td>\n",
       "      <td>1.697368</td>\n",
       "      <td>0</td>\n",
       "    </tr>\n",
       "    <tr>\n",
       "      <th>2039</th>\n",
       "      <td>-0.972193</td>\n",
       "      <td>0.127194</td>\n",
       "      <td>-1.410412</td>\n",
       "      <td>-0.544588</td>\n",
       "      <td>-0.201504</td>\n",
       "      <td>1.609375</td>\n",
       "      <td>1</td>\n",
       "    </tr>\n",
       "  </tbody>\n",
       "</table>\n",
       "<p>2040 rows × 7 columns</p>\n",
       "</div>"
      ],
      "text/plain": [
       "           PC1       PC2       PC3       PC4       PC5  price_sq  walk\n",
       "0    -1.664595 -0.170182 -0.382594 -0.235535 -0.019761  1.396552     1\n",
       "1    -3.132676 -0.058395 -0.619063  0.778132  0.055991  1.704545     1\n",
       "2    -1.065828 -0.464760 -1.553843 -0.575355  0.440988  1.828571     1\n",
       "3    -1.802300  0.046424 -0.623437 -0.065274  0.324892  1.557377     1\n",
       "4     2.665792 -0.010419 -0.201316 -0.725857  0.426100  3.173077     0\n",
       "...        ...       ...       ...       ...       ...       ...   ...\n",
       "2035  0.275382 -0.316997 -0.834723  0.330752  0.149290  1.428571     0\n",
       "2036 -1.189425 -1.227353  0.013890 -0.328122 -0.077456  1.583333     0\n",
       "2037 -1.229762 -0.987383 -0.245725 -0.906326 -0.177236  1.583333     1\n",
       "2038  0.429200 -0.226317 -0.919538  0.076687 -0.109912  1.697368     0\n",
       "2039 -0.972193  0.127194 -1.410412 -0.544588 -0.201504  1.609375     1\n",
       "\n",
       "[2040 rows x 7 columns]"
      ]
     },
     "execution_count": 103,
     "metadata": {},
     "output_type": "execute_result"
    }
   ],
   "source": [
    "principaldata['price_sq'] = y\n",
    "principaldata['walk'] = data['walk']\n",
    "principaldata"
   ]
  },
  {
   "cell_type": "code",
   "execution_count": 73,
   "id": "cb483bbe",
   "metadata": {},
   "outputs": [
    {
     "data": {
      "text/plain": [
       "array([0.50402812, 0.21584758, 0.18005558, 0.08360339, 0.01646533])"
      ]
     },
     "execution_count": 73,
     "metadata": {},
     "output_type": "execute_result"
    }
   ],
   "source": [
    "pca.explained_variance_ratio_"
   ]
  },
  {
   "cell_type": "code",
   "execution_count": 74,
   "id": "7ef4bdc8",
   "metadata": {},
   "outputs": [
    {
     "data": {
      "text/plain": [
       "Text(0.5, 0, 'Главные компоненты')"
      ]
     },
     "execution_count": 74,
     "metadata": {},
     "output_type": "execute_result"
    },
    {
     "data": {
      "image/png": "[encoded data removed]",
      "text/plain": [
       "<Figure size 432x288 with 1 Axes>"
      ]
     },
     "metadata": {
      "needs_background": "light"
     },
     "output_type": "display_data"
    }
   ],
   "source": [
    "d = pd.DataFrame({'var':pca.explained_variance_ratio_, 'PC':['PC1', 'PC2', 'PC3','PC4','PC5']})\n",
    "graph = sns.barplot(x = 'PC', y = 'var', data = d, color = 'wheat')\n",
    "graph.set_title('Доля дисперсии, объясняемой главными компонентами')\n",
    "graph.set_ylabel('Доля дисперсии')\n",
    "graph.set_xlabel('Главные компоненты')"
   ]
  },
  {
   "cell_type": "code",
   "execution_count": 104,
   "id": "e93fe975",
   "metadata": {},
   "outputs": [
    {
     "data": {
      "text/html": [
       "<table class=\"simpletable\">\n",
       "<caption>OLS Regression Results</caption>\n",
       "<tr>\n",
       "  <th>Dep. Variable:</th>        <td>price_sq</td>     <th>  R-squared:         </th> <td>   0.338</td> \n",
       "</tr>\n",
       "<tr>\n",
       "  <th>Model:</th>                   <td>OLS</td>       <th>  Adj. R-squared:    </th> <td>   0.336</td> \n",
       "</tr>\n",
       "<tr>\n",
       "  <th>Method:</th>             <td>Least Squares</td>  <th>  F-statistic:       </th> <td>   173.2</td> \n",
       "</tr>\n",
       "<tr>\n",
       "  <th>Date:</th>             <td>Sun, 20 Nov 2022</td> <th>  Prob (F-statistic):</th> <td>3.12e-178</td>\n",
       "</tr>\n",
       "<tr>\n",
       "  <th>Time:</th>                 <td>18:40:57</td>     <th>  Log-Likelihood:    </th> <td> -633.77</td> \n",
       "</tr>\n",
       "<tr>\n",
       "  <th>No. Observations:</th>      <td>  2040</td>      <th>  AIC:               </th> <td>   1282.</td> \n",
       "</tr>\n",
       "<tr>\n",
       "  <th>Df Residuals:</th>          <td>  2033</td>      <th>  BIC:               </th> <td>   1321.</td> \n",
       "</tr>\n",
       "<tr>\n",
       "  <th>Df Model:</th>              <td>     6</td>      <th>                     </th>     <td> </td>    \n",
       "</tr>\n",
       "<tr>\n",
       "  <th>Covariance Type:</th>      <td>nonrobust</td>    <th>                     </th>     <td> </td>    \n",
       "</tr>\n",
       "</table>\n",
       "<table class=\"simpletable\">\n",
       "<tr>\n",
       "      <td></td>         <th>coef</th>     <th>std err</th>      <th>t</th>      <th>P>|t|</th>  <th>[0.025</th>    <th>0.975]</th>  \n",
       "</tr>\n",
       "<tr>\n",
       "  <th>Intercept</th> <td>    1.6220</td> <td>    0.013</td> <td>  122.630</td> <td> 0.000</td> <td>    1.596</td> <td>    1.648</td>\n",
       "</tr>\n",
       "<tr>\n",
       "  <th>PC1</th>       <td>    0.0975</td> <td>    0.005</td> <td>   21.118</td> <td> 0.000</td> <td>    0.088</td> <td>    0.107</td>\n",
       "</tr>\n",
       "<tr>\n",
       "  <th>PC2</th>       <td>   -0.1322</td> <td>    0.007</td> <td>  -18.574</td> <td> 0.000</td> <td>   -0.146</td> <td>   -0.118</td>\n",
       "</tr>\n",
       "<tr>\n",
       "  <th>PC3</th>       <td>    0.0597</td> <td>    0.008</td> <td>    7.688</td> <td> 0.000</td> <td>    0.044</td> <td>    0.075</td>\n",
       "</tr>\n",
       "<tr>\n",
       "  <th>PC4</th>       <td>    0.0149</td> <td>    0.011</td> <td>    1.318</td> <td> 0.188</td> <td>   -0.007</td> <td>    0.037</td>\n",
       "</tr>\n",
       "<tr>\n",
       "  <th>PC5</th>       <td>   -0.1173</td> <td>    0.026</td> <td>   -4.592</td> <td> 0.000</td> <td>   -0.167</td> <td>   -0.067</td>\n",
       "</tr>\n",
       "<tr>\n",
       "  <th>walk</th>      <td>    0.1396</td> <td>    0.016</td> <td>    8.692</td> <td> 0.000</td> <td>    0.108</td> <td>    0.171</td>\n",
       "</tr>\n",
       "</table>\n",
       "<table class=\"simpletable\">\n",
       "<tr>\n",
       "  <th>Omnibus:</th>       <td>833.914</td> <th>  Durbin-Watson:     </th> <td>   2.011</td>\n",
       "</tr>\n",
       "<tr>\n",
       "  <th>Prob(Omnibus):</th> <td> 0.000</td>  <th>  Jarque-Bera (JB):  </th> <td>7507.026</td>\n",
       "</tr>\n",
       "<tr>\n",
       "  <th>Skew:</th>          <td> 1.678</td>  <th>  Prob(JB):          </th> <td>    0.00</td>\n",
       "</tr>\n",
       "<tr>\n",
       "  <th>Kurtosis:</th>      <td>11.778</td>  <th>  Cond. No.          </th> <td>    5.55</td>\n",
       "</tr>\n",
       "</table><br/><br/>Notes:<br/>[1] Standard Errors assume that the covariance matrix of the errors is correctly specified."
      ],
      "text/plain": [
       "<class 'statsmodels.iolib.summary.Summary'>\n",
       "\"\"\"\n",
       "                            OLS Regression Results                            \n",
       "==============================================================================\n",
       "Dep. Variable:               price_sq   R-squared:                       0.338\n",
       "Model:                            OLS   Adj. R-squared:                  0.336\n",
       "Method:                 Least Squares   F-statistic:                     173.2\n",
       "Date:                Sun, 20 Nov 2022   Prob (F-statistic):          3.12e-178\n",
       "Time:                        18:40:57   Log-Likelihood:                -633.77\n",
       "No. Observations:                2040   AIC:                             1282.\n",
       "Df Residuals:                    2033   BIC:                             1321.\n",
       "Df Model:                           6                                         \n",
       "Covariance Type:            nonrobust                                         \n",
       "==============================================================================\n",
       "                 coef    std err          t      P>|t|      [0.025      0.975]\n",
       "------------------------------------------------------------------------------\n",
       "Intercept      1.6220      0.013    122.630      0.000       1.596       1.648\n",
       "PC1            0.0975      0.005     21.118      0.000       0.088       0.107\n",
       "PC2           -0.1322      0.007    -18.574      0.000      -0.146      -0.118\n",
       "PC3            0.0597      0.008      7.688      0.000       0.044       0.075\n",
       "PC4            0.0149      0.011      1.318      0.188      -0.007       0.037\n",
       "PC5           -0.1173      0.026     -4.592      0.000      -0.167      -0.067\n",
       "walk           0.1396      0.016      8.692      0.000       0.108       0.171\n",
       "==============================================================================\n",
       "Omnibus:                      833.914   Durbin-Watson:                   2.011\n",
       "Prob(Omnibus):                  0.000   Jarque-Bera (JB):             7507.026\n",
       "Skew:                           1.678   Prob(JB):                         0.00\n",
       "Kurtosis:                      11.778   Cond. No.                         5.55\n",
       "==============================================================================\n",
       "\n",
       "Notes:\n",
       "[1] Standard Errors assume that the covariance matrix of the errors is correctly specified.\n",
       "\"\"\""
      ]
     },
     "execution_count": 104,
     "metadata": {},
     "output_type": "execute_result"
    }
   ],
   "source": [
    "# Оценим регрессию price_sq на главные компоненты\n",
    "regr = smf.ols('price_sq ~ PC1 + PC2 + PC3 + PC4 + PC5 + walk', data=principaldata).fit()\n",
    "regr.summary()"
   ]
  }
 ],
 "metadata": {
  "kernelspec": {
   "display_name": "Python 3 (ipykernel)",
   "language": "python",
   "name": "python3"
  },
  "language_info": {
   "codemirror_mode": {
    "name": "ipython",
    "version": 3
   },
   "file_extension": ".py",
   "mimetype": "text/x-python",
   "name": "python",
   "nbconvert_exporter": "python",
   "pygments_lexer": "ipython3",
   "version": "3.9.7"
  }
 },
 "nbformat": 4,
 "nbformat_minor": 5
}
