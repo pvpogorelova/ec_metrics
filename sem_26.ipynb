{
 "cells": [
  {
   "cell_type": "code",
   "execution_count": 14,
   "id": "9268e763",
   "metadata": {},
   "outputs": [],
   "source": [
    "# Семинар 26. Модели бинарного выбора.\n",
    "\n",
    "import numpy as np # математические операции\n",
    "import pandas as pd # операции с табличками\n",
    "import statsmodels.api as sm # модели \n",
    "import statsmodels.formula.api as smf # модели \n",
    "from sklearn.linear_model import LinearRegression # линейная регрессия без статистики\n",
    "import seaborn as sns # графики\n",
    "import matplotlib.pyplot as plt # графики\n",
    "from statsmodels.iolib.summary2 import summary_col # несколько моделей в одной таблице\n",
    "from statsmodels.graphics.mosaicplot import mosaic\n",
    "\n",
    "from sklearn.model_selection import train_test_split\n",
    "from sklearn.linear_model import LogisticRegression\n",
    "from sklearn.metrics import plot_precision_recall_curve\n",
    "from sklearn.metrics import plot_roc_curve\n",
    "from sklearn.metrics import plot_confusion_matrix, confusion_matrix"
   ]
  },
  {
   "cell_type": "code",
   "execution_count": 15,
   "id": "6d7a4f9c",
   "metadata": {},
   "outputs": [
    {
     "name": "stdout",
     "output_type": "stream",
     "text": [
      "Requirement already satisfied: rdatasets in ./opt/anaconda3/lib/python3.9/site-packages (0.1.0)\r\n",
      "Requirement already satisfied: pandas in ./opt/anaconda3/lib/python3.9/site-packages (from rdatasets) (1.3.4)\r\n",
      "Requirement already satisfied: python-dateutil>=2.7.3 in ./opt/anaconda3/lib/python3.9/site-packages (from pandas->rdatasets) (2.8.2)\r\n",
      "Requirement already satisfied: pytz>=2017.3 in ./opt/anaconda3/lib/python3.9/site-packages (from pandas->rdatasets) (2021.3)\r\n",
      "Requirement already satisfied: numpy>=1.17.3 in ./opt/anaconda3/lib/python3.9/site-packages (from pandas->rdatasets) (1.20.3)\r\n",
      "Requirement already satisfied: six>=1.5 in ./opt/anaconda3/lib/python3.9/site-packages (from python-dateutil>=2.7.3->pandas->rdatasets) (1.16.0)\r\n"
     ]
    }
   ],
   "source": [
    "get_ipython().system('pip install rdatasets # наборы данных')\n",
    "# !pip install yfinance\n",
    "from rdatasets import data "
   ]
  },
  {
   "cell_type": "code",
   "execution_count": 16,
   "id": "3cb0f3f9",
   "metadata": {},
   "outputs": [
    {
     "data": {
      "text/html": [
       "<div>\n",
       "<style scoped>\n",
       "    .dataframe tbody tr th:only-of-type {\n",
       "        vertical-align: middle;\n",
       "    }\n",
       "\n",
       "    .dataframe tbody tr th {\n",
       "        vertical-align: top;\n",
       "    }\n",
       "\n",
       "    .dataframe thead th {\n",
       "        text-align: right;\n",
       "    }\n",
       "</style>\n",
       "<table border=\"1\" class=\"dataframe\">\n",
       "  <thead>\n",
       "    <tr style=\"text-align: right;\">\n",
       "      <th></th>\n",
       "      <th>inlf</th>\n",
       "      <th>hours</th>\n",
       "      <th>kidslt6</th>\n",
       "      <th>kidsge6</th>\n",
       "      <th>age</th>\n",
       "      <th>educ</th>\n",
       "      <th>wage</th>\n",
       "      <th>repwage</th>\n",
       "      <th>hushrs</th>\n",
       "      <th>husage</th>\n",
       "      <th>...</th>\n",
       "      <th>mtr</th>\n",
       "      <th>motheduc</th>\n",
       "      <th>fatheduc</th>\n",
       "      <th>unem</th>\n",
       "      <th>city</th>\n",
       "      <th>exper</th>\n",
       "      <th>nwifeinc</th>\n",
       "      <th>lwage</th>\n",
       "      <th>expersq</th>\n",
       "      <th>logw</th>\n",
       "    </tr>\n",
       "  </thead>\n",
       "  <tbody>\n",
       "    <tr>\n",
       "      <th>0</th>\n",
       "      <td>1</td>\n",
       "      <td>1610</td>\n",
       "      <td>1</td>\n",
       "      <td>0</td>\n",
       "      <td>32</td>\n",
       "      <td>12</td>\n",
       "      <td>3.3540</td>\n",
       "      <td>2.65</td>\n",
       "      <td>2708</td>\n",
       "      <td>34</td>\n",
       "      <td>...</td>\n",
       "      <td>0.7215</td>\n",
       "      <td>12</td>\n",
       "      <td>7</td>\n",
       "      <td>5.0</td>\n",
       "      <td>0</td>\n",
       "      <td>14</td>\n",
       "      <td>10.910060</td>\n",
       "      <td>1.210154</td>\n",
       "      <td>196</td>\n",
       "      <td>1.471095</td>\n",
       "    </tr>\n",
       "    <tr>\n",
       "      <th>1</th>\n",
       "      <td>1</td>\n",
       "      <td>1656</td>\n",
       "      <td>0</td>\n",
       "      <td>2</td>\n",
       "      <td>30</td>\n",
       "      <td>12</td>\n",
       "      <td>1.3889</td>\n",
       "      <td>2.65</td>\n",
       "      <td>2310</td>\n",
       "      <td>30</td>\n",
       "      <td>...</td>\n",
       "      <td>0.6615</td>\n",
       "      <td>7</td>\n",
       "      <td>7</td>\n",
       "      <td>11.0</td>\n",
       "      <td>1</td>\n",
       "      <td>5</td>\n",
       "      <td>19.499981</td>\n",
       "      <td>0.328512</td>\n",
       "      <td>25</td>\n",
       "      <td>0.870833</td>\n",
       "    </tr>\n",
       "    <tr>\n",
       "      <th>2</th>\n",
       "      <td>1</td>\n",
       "      <td>1980</td>\n",
       "      <td>1</td>\n",
       "      <td>3</td>\n",
       "      <td>35</td>\n",
       "      <td>12</td>\n",
       "      <td>4.5455</td>\n",
       "      <td>4.04</td>\n",
       "      <td>3072</td>\n",
       "      <td>40</td>\n",
       "      <td>...</td>\n",
       "      <td>0.6915</td>\n",
       "      <td>12</td>\n",
       "      <td>7</td>\n",
       "      <td>5.0</td>\n",
       "      <td>0</td>\n",
       "      <td>15</td>\n",
       "      <td>12.039910</td>\n",
       "      <td>1.514138</td>\n",
       "      <td>225</td>\n",
       "      <td>1.712987</td>\n",
       "    </tr>\n",
       "    <tr>\n",
       "      <th>3</th>\n",
       "      <td>1</td>\n",
       "      <td>456</td>\n",
       "      <td>0</td>\n",
       "      <td>3</td>\n",
       "      <td>34</td>\n",
       "      <td>12</td>\n",
       "      <td>1.0965</td>\n",
       "      <td>3.25</td>\n",
       "      <td>1920</td>\n",
       "      <td>53</td>\n",
       "      <td>...</td>\n",
       "      <td>0.7815</td>\n",
       "      <td>7</td>\n",
       "      <td>7</td>\n",
       "      <td>5.0</td>\n",
       "      <td>0</td>\n",
       "      <td>6</td>\n",
       "      <td>6.799996</td>\n",
       "      <td>0.092123</td>\n",
       "      <td>36</td>\n",
       "      <td>0.740269</td>\n",
       "    </tr>\n",
       "    <tr>\n",
       "      <th>4</th>\n",
       "      <td>1</td>\n",
       "      <td>1568</td>\n",
       "      <td>1</td>\n",
       "      <td>2</td>\n",
       "      <td>31</td>\n",
       "      <td>14</td>\n",
       "      <td>4.5918</td>\n",
       "      <td>3.60</td>\n",
       "      <td>2000</td>\n",
       "      <td>32</td>\n",
       "      <td>...</td>\n",
       "      <td>0.6215</td>\n",
       "      <td>12</td>\n",
       "      <td>14</td>\n",
       "      <td>9.5</td>\n",
       "      <td>1</td>\n",
       "      <td>7</td>\n",
       "      <td>20.100058</td>\n",
       "      <td>1.524272</td>\n",
       "      <td>49</td>\n",
       "      <td>1.721301</td>\n",
       "    </tr>\n",
       "    <tr>\n",
       "      <th>...</th>\n",
       "      <td>...</td>\n",
       "      <td>...</td>\n",
       "      <td>...</td>\n",
       "      <td>...</td>\n",
       "      <td>...</td>\n",
       "      <td>...</td>\n",
       "      <td>...</td>\n",
       "      <td>...</td>\n",
       "      <td>...</td>\n",
       "      <td>...</td>\n",
       "      <td>...</td>\n",
       "      <td>...</td>\n",
       "      <td>...</td>\n",
       "      <td>...</td>\n",
       "      <td>...</td>\n",
       "      <td>...</td>\n",
       "      <td>...</td>\n",
       "      <td>...</td>\n",
       "      <td>...</td>\n",
       "      <td>...</td>\n",
       "      <td>...</td>\n",
       "    </tr>\n",
       "    <tr>\n",
       "      <th>748</th>\n",
       "      <td>0</td>\n",
       "      <td>0</td>\n",
       "      <td>0</td>\n",
       "      <td>2</td>\n",
       "      <td>40</td>\n",
       "      <td>13</td>\n",
       "      <td>0.0000</td>\n",
       "      <td>0.00</td>\n",
       "      <td>3020</td>\n",
       "      <td>43</td>\n",
       "      <td>...</td>\n",
       "      <td>0.6215</td>\n",
       "      <td>10</td>\n",
       "      <td>10</td>\n",
       "      <td>9.5</td>\n",
       "      <td>1</td>\n",
       "      <td>5</td>\n",
       "      <td>28.200001</td>\n",
       "      <td>NaN</td>\n",
       "      <td>25</td>\n",
       "      <td>0.000000</td>\n",
       "    </tr>\n",
       "    <tr>\n",
       "      <th>749</th>\n",
       "      <td>0</td>\n",
       "      <td>0</td>\n",
       "      <td>2</td>\n",
       "      <td>3</td>\n",
       "      <td>31</td>\n",
       "      <td>12</td>\n",
       "      <td>0.0000</td>\n",
       "      <td>0.00</td>\n",
       "      <td>2056</td>\n",
       "      <td>33</td>\n",
       "      <td>...</td>\n",
       "      <td>0.7715</td>\n",
       "      <td>12</td>\n",
       "      <td>12</td>\n",
       "      <td>7.5</td>\n",
       "      <td>0</td>\n",
       "      <td>14</td>\n",
       "      <td>10.000000</td>\n",
       "      <td>NaN</td>\n",
       "      <td>196</td>\n",
       "      <td>0.000000</td>\n",
       "    </tr>\n",
       "    <tr>\n",
       "      <th>750</th>\n",
       "      <td>0</td>\n",
       "      <td>0</td>\n",
       "      <td>0</td>\n",
       "      <td>0</td>\n",
       "      <td>43</td>\n",
       "      <td>12</td>\n",
       "      <td>0.0000</td>\n",
       "      <td>0.00</td>\n",
       "      <td>2383</td>\n",
       "      <td>43</td>\n",
       "      <td>...</td>\n",
       "      <td>0.7515</td>\n",
       "      <td>10</td>\n",
       "      <td>3</td>\n",
       "      <td>7.5</td>\n",
       "      <td>0</td>\n",
       "      <td>4</td>\n",
       "      <td>9.952000</td>\n",
       "      <td>NaN</td>\n",
       "      <td>16</td>\n",
       "      <td>0.000000</td>\n",
       "    </tr>\n",
       "    <tr>\n",
       "      <th>751</th>\n",
       "      <td>0</td>\n",
       "      <td>0</td>\n",
       "      <td>0</td>\n",
       "      <td>0</td>\n",
       "      <td>60</td>\n",
       "      <td>12</td>\n",
       "      <td>0.0000</td>\n",
       "      <td>0.00</td>\n",
       "      <td>1705</td>\n",
       "      <td>55</td>\n",
       "      <td>...</td>\n",
       "      <td>0.6215</td>\n",
       "      <td>12</td>\n",
       "      <td>12</td>\n",
       "      <td>14.0</td>\n",
       "      <td>1</td>\n",
       "      <td>15</td>\n",
       "      <td>24.983999</td>\n",
       "      <td>NaN</td>\n",
       "      <td>225</td>\n",
       "      <td>0.000000</td>\n",
       "    </tr>\n",
       "    <tr>\n",
       "      <th>752</th>\n",
       "      <td>0</td>\n",
       "      <td>0</td>\n",
       "      <td>0</td>\n",
       "      <td>3</td>\n",
       "      <td>39</td>\n",
       "      <td>9</td>\n",
       "      <td>0.0000</td>\n",
       "      <td>0.00</td>\n",
       "      <td>3120</td>\n",
       "      <td>48</td>\n",
       "      <td>...</td>\n",
       "      <td>0.6915</td>\n",
       "      <td>7</td>\n",
       "      <td>7</td>\n",
       "      <td>11.0</td>\n",
       "      <td>1</td>\n",
       "      <td>12</td>\n",
       "      <td>28.363001</td>\n",
       "      <td>NaN</td>\n",
       "      <td>144</td>\n",
       "      <td>0.000000</td>\n",
       "    </tr>\n",
       "  </tbody>\n",
       "</table>\n",
       "<p>753 rows × 23 columns</p>\n",
       "</div>"
      ],
      "text/plain": [
       "     inlf  hours  kidslt6  kidsge6  age  educ    wage  repwage  hushrs  \\\n",
       "0       1   1610        1        0   32    12  3.3540     2.65    2708   \n",
       "1       1   1656        0        2   30    12  1.3889     2.65    2310   \n",
       "2       1   1980        1        3   35    12  4.5455     4.04    3072   \n",
       "3       1    456        0        3   34    12  1.0965     3.25    1920   \n",
       "4       1   1568        1        2   31    14  4.5918     3.60    2000   \n",
       "..    ...    ...      ...      ...  ...   ...     ...      ...     ...   \n",
       "748     0      0        0        2   40    13  0.0000     0.00    3020   \n",
       "749     0      0        2        3   31    12  0.0000     0.00    2056   \n",
       "750     0      0        0        0   43    12  0.0000     0.00    2383   \n",
       "751     0      0        0        0   60    12  0.0000     0.00    1705   \n",
       "752     0      0        0        3   39     9  0.0000     0.00    3120   \n",
       "\n",
       "     husage  ...     mtr  motheduc  fatheduc  unem  city  exper   nwifeinc  \\\n",
       "0        34  ...  0.7215        12         7   5.0     0     14  10.910060   \n",
       "1        30  ...  0.6615         7         7  11.0     1      5  19.499981   \n",
       "2        40  ...  0.6915        12         7   5.0     0     15  12.039910   \n",
       "3        53  ...  0.7815         7         7   5.0     0      6   6.799996   \n",
       "4        32  ...  0.6215        12        14   9.5     1      7  20.100058   \n",
       "..      ...  ...     ...       ...       ...   ...   ...    ...        ...   \n",
       "748      43  ...  0.6215        10        10   9.5     1      5  28.200001   \n",
       "749      33  ...  0.7715        12        12   7.5     0     14  10.000000   \n",
       "750      43  ...  0.7515        10         3   7.5     0      4   9.952000   \n",
       "751      55  ...  0.6215        12        12  14.0     1     15  24.983999   \n",
       "752      48  ...  0.6915         7         7  11.0     1     12  28.363001   \n",
       "\n",
       "        lwage  expersq      logw  \n",
       "0    1.210154      196  1.471095  \n",
       "1    0.328512       25  0.870833  \n",
       "2    1.514138      225  1.712987  \n",
       "3    0.092123       36  0.740269  \n",
       "4    1.524272       49  1.721301  \n",
       "..        ...      ...       ...  \n",
       "748       NaN       25  0.000000  \n",
       "749       NaN      196  0.000000  \n",
       "750       NaN       16  0.000000  \n",
       "751       NaN      225  0.000000  \n",
       "752       NaN      144  0.000000  \n",
       "\n",
       "[753 rows x 23 columns]"
      ]
     },
     "execution_count": 16,
     "metadata": {},
     "output_type": "execute_result"
    }
   ],
   "source": [
    "# рассмотрим данные о женщинах MROZ\n",
    "t = pd.read_stata('/Users/polinapogorelova/Downloads/mroz.dta')\n",
    "t"
   ]
  },
  {
   "cell_type": "code",
   "execution_count": 17,
   "id": "7c545558",
   "metadata": {},
   "outputs": [],
   "source": [
    "# преобразуем все качественные переменные (кроме зависимой inlf)\n",
    "for col in ['city']:\n",
    "  t[col] = pd.Categorical(t[col])"
   ]
  },
  {
   "cell_type": "code",
   "execution_count": 18,
   "id": "d11d6011",
   "metadata": {},
   "outputs": [
    {
     "data": {
      "image/png": "[encoded data removed]",
      "text/plain": [
       "<Figure size 432x288 with 3 Axes>"
      ]
     },
     "metadata": {
      "needs_background": "light"
     },
     "output_type": "display_data"
    }
   ],
   "source": [
    "# мозаичный график (для качественных переменных)\n",
    "mosaic(t, ['inlf', 'city']);"
   ]
  },
  {
   "cell_type": "code",
   "execution_count": 19,
   "id": "72f73747",
   "metadata": {},
   "outputs": [
    {
     "data": {
      "image/png": "[encoded data removed]",
      "text/plain": [
       "<Figure size 432x288 with 1 Axes>"
      ]
     },
     "metadata": {
      "needs_background": "light"
     },
     "output_type": "display_data"
    }
   ],
   "source": [
    "# ящик с усами\n",
    "sns.boxplot(data=t, x='inlf', y='age');"
   ]
  },
  {
   "cell_type": "code",
   "execution_count": 20,
   "id": "d67fffec",
   "metadata": {},
   "outputs": [
    {
     "data": {
      "image/png": "[encoded data removed]",
      "text/plain": [
       "<Figure size 402.375x360 with 1 Axes>"
      ]
     },
     "metadata": {
      "needs_background": "light"
     },
     "output_type": "display_data"
    }
   ],
   "source": [
    "sns.displot(data=t, x='age', kind='kde', hue='inlf', multiple='stack');"
   ]
  },
  {
   "cell_type": "code",
   "execution_count": 21,
   "id": "faaf1b43",
   "metadata": {},
   "outputs": [
    {
     "data": {
      "image/png": "[encoded data removed]",
      "text/plain": [
       "<Figure size 402.375x360 with 1 Axes>"
      ]
     },
     "metadata": {
      "needs_background": "light"
     },
     "output_type": "display_data"
    }
   ],
   "source": [
    "sns.displot(data=t, x='age', kind='kde', hue='inlf', multiple='fill');"
   ]
  },
  {
   "cell_type": "code",
   "execution_count": 22,
   "id": "681178b7",
   "metadata": {},
   "outputs": [
    {
     "name": "stdout",
     "output_type": "stream",
     "text": [
      "Optimization terminated successfully.\n",
      "         Current function value: 0.533553\n",
      "         Iterations 6\n"
     ]
    },
    {
     "data": {
      "text/html": [
       "<table class=\"simpletable\">\n",
       "<caption>Logit Regression Results</caption>\n",
       "<tr>\n",
       "  <th>Dep. Variable:</th>         <td>inlf</td>       <th>  No. Observations:  </th>  <td>   753</td>  \n",
       "</tr>\n",
       "<tr>\n",
       "  <th>Model:</th>                 <td>Logit</td>      <th>  Df Residuals:      </th>  <td>   745</td>  \n",
       "</tr>\n",
       "<tr>\n",
       "  <th>Method:</th>                 <td>MLE</td>       <th>  Df Model:          </th>  <td>     7</td>  \n",
       "</tr>\n",
       "<tr>\n",
       "  <th>Date:</th>            <td>Sun, 09 Apr 2023</td> <th>  Pseudo R-squ.:     </th>  <td>0.2197</td>  \n",
       "</tr>\n",
       "<tr>\n",
       "  <th>Time:</th>                <td>21:46:42</td>     <th>  Log-Likelihood:    </th> <td> -401.77</td> \n",
       "</tr>\n",
       "<tr>\n",
       "  <th>converged:</th>             <td>True</td>       <th>  LL-Null:           </th> <td> -514.87</td> \n",
       "</tr>\n",
       "<tr>\n",
       "  <th>Covariance Type:</th>     <td>nonrobust</td>    <th>  LLR p-value:       </th> <td>3.159e-45</td>\n",
       "</tr>\n",
       "</table>\n",
       "<table class=\"simpletable\">\n",
       "<tr>\n",
       "      <td></td>         <th>coef</th>     <th>std err</th>      <th>z</th>      <th>P>|z|</th>  <th>[0.025</th>    <th>0.975]</th>  \n",
       "</tr>\n",
       "<tr>\n",
       "  <th>Intercept</th> <td>    0.4255</td> <td>    0.860</td> <td>    0.494</td> <td> 0.621</td> <td>   -1.261</td> <td>    2.112</td>\n",
       "</tr>\n",
       "<tr>\n",
       "  <th>educ</th>      <td>    0.2212</td> <td>    0.043</td> <td>    5.091</td> <td> 0.000</td> <td>    0.136</td> <td>    0.306</td>\n",
       "</tr>\n",
       "<tr>\n",
       "  <th>exper</th>     <td>    0.2059</td> <td>    0.032</td> <td>    6.422</td> <td> 0.000</td> <td>    0.143</td> <td>    0.269</td>\n",
       "</tr>\n",
       "<tr>\n",
       "  <th>expersq</th>   <td>   -0.0032</td> <td>    0.001</td> <td>   -3.104</td> <td> 0.002</td> <td>   -0.005</td> <td>   -0.001</td>\n",
       "</tr>\n",
       "<tr>\n",
       "  <th>age</th>       <td>   -0.0880</td> <td>    0.015</td> <td>   -6.040</td> <td> 0.000</td> <td>   -0.117</td> <td>   -0.059</td>\n",
       "</tr>\n",
       "<tr>\n",
       "  <th>kidslt6</th>   <td>   -1.4434</td> <td>    0.204</td> <td>   -7.090</td> <td> 0.000</td> <td>   -1.842</td> <td>   -1.044</td>\n",
       "</tr>\n",
       "<tr>\n",
       "  <th>kidsge6</th>   <td>    0.0601</td> <td>    0.075</td> <td>    0.804</td> <td> 0.422</td> <td>   -0.086</td> <td>    0.207</td>\n",
       "</tr>\n",
       "<tr>\n",
       "  <th>nwifeinc</th>  <td>   -0.0213</td> <td>    0.008</td> <td>   -2.535</td> <td> 0.011</td> <td>   -0.038</td> <td>   -0.005</td>\n",
       "</tr>\n",
       "</table>"
      ],
      "text/plain": [
       "<class 'statsmodels.iolib.summary.Summary'>\n",
       "\"\"\"\n",
       "                           Logit Regression Results                           \n",
       "==============================================================================\n",
       "Dep. Variable:                   inlf   No. Observations:                  753\n",
       "Model:                          Logit   Df Residuals:                      745\n",
       "Method:                           MLE   Df Model:                            7\n",
       "Date:                Sun, 09 Apr 2023   Pseudo R-squ.:                  0.2197\n",
       "Time:                        21:46:42   Log-Likelihood:                -401.77\n",
       "converged:                       True   LL-Null:                       -514.87\n",
       "Covariance Type:            nonrobust   LLR p-value:                 3.159e-45\n",
       "==============================================================================\n",
       "                 coef    std err          z      P>|z|      [0.025      0.975]\n",
       "------------------------------------------------------------------------------\n",
       "Intercept      0.4255      0.860      0.494      0.621      -1.261       2.112\n",
       "educ           0.2212      0.043      5.091      0.000       0.136       0.306\n",
       "exper          0.2059      0.032      6.422      0.000       0.143       0.269\n",
       "expersq       -0.0032      0.001     -3.104      0.002      -0.005      -0.001\n",
       "age           -0.0880      0.015     -6.040      0.000      -0.117      -0.059\n",
       "kidslt6       -1.4434      0.204     -7.090      0.000      -1.842      -1.044\n",
       "kidsge6        0.0601      0.075      0.804      0.422      -0.086       0.207\n",
       "nwifeinc      -0.0213      0.008     -2.535      0.011      -0.038      -0.005\n",
       "==============================================================================\n",
       "\"\"\""
      ]
     },
     "execution_count": 22,
     "metadata": {},
     "output_type": "execute_result"
    }
   ],
   "source": [
    "# оценим logit модель\n",
    "fit_logit = smf.logit('inlf ~ educ + exper + expersq + age + kidslt6 + kidsge6 + nwifeinc', data=t).fit()\n",
    "fit_logit.summary()"
   ]
  },
  {
   "cell_type": "code",
   "execution_count": 23,
   "id": "6ca6264b",
   "metadata": {},
   "outputs": [
    {
     "name": "stdout",
     "output_type": "stream",
     "text": [
      "Optimization terminated successfully.\n",
      "         Current function value: 0.532938\n",
      "         Iterations 5\n"
     ]
    },
    {
     "data": {
      "text/html": [
       "<table class=\"simpletable\">\n",
       "<caption>Probit Regression Results</caption>\n",
       "<tr>\n",
       "  <th>Dep. Variable:</th>         <td>inlf</td>       <th>  No. Observations:  </th>  <td>   753</td>  \n",
       "</tr>\n",
       "<tr>\n",
       "  <th>Model:</th>                <td>Probit</td>      <th>  Df Residuals:      </th>  <td>   745</td>  \n",
       "</tr>\n",
       "<tr>\n",
       "  <th>Method:</th>                 <td>MLE</td>       <th>  Df Model:          </th>  <td>     7</td>  \n",
       "</tr>\n",
       "<tr>\n",
       "  <th>Date:</th>            <td>Sun, 09 Apr 2023</td> <th>  Pseudo R-squ.:     </th>  <td>0.2206</td>  \n",
       "</tr>\n",
       "<tr>\n",
       "  <th>Time:</th>                <td>21:46:42</td>     <th>  Log-Likelihood:    </th> <td> -401.30</td> \n",
       "</tr>\n",
       "<tr>\n",
       "  <th>converged:</th>             <td>True</td>       <th>  LL-Null:           </th> <td> -514.87</td> \n",
       "</tr>\n",
       "<tr>\n",
       "  <th>Covariance Type:</th>     <td>nonrobust</td>    <th>  LLR p-value:       </th> <td>2.009e-45</td>\n",
       "</tr>\n",
       "</table>\n",
       "<table class=\"simpletable\">\n",
       "<tr>\n",
       "      <td></td>         <th>coef</th>     <th>std err</th>      <th>z</th>      <th>P>|z|</th>  <th>[0.025</th>    <th>0.975]</th>  \n",
       "</tr>\n",
       "<tr>\n",
       "  <th>Intercept</th> <td>    0.2701</td> <td>    0.509</td> <td>    0.531</td> <td> 0.595</td> <td>   -0.727</td> <td>    1.267</td>\n",
       "</tr>\n",
       "<tr>\n",
       "  <th>educ</th>      <td>    0.1309</td> <td>    0.025</td> <td>    5.183</td> <td> 0.000</td> <td>    0.081</td> <td>    0.180</td>\n",
       "</tr>\n",
       "<tr>\n",
       "  <th>exper</th>     <td>    0.1233</td> <td>    0.019</td> <td>    6.590</td> <td> 0.000</td> <td>    0.087</td> <td>    0.160</td>\n",
       "</tr>\n",
       "<tr>\n",
       "  <th>expersq</th>   <td>   -0.0019</td> <td>    0.001</td> <td>   -3.145</td> <td> 0.002</td> <td>   -0.003</td> <td>   -0.001</td>\n",
       "</tr>\n",
       "<tr>\n",
       "  <th>age</th>       <td>   -0.0529</td> <td>    0.008</td> <td>   -6.235</td> <td> 0.000</td> <td>   -0.069</td> <td>   -0.036</td>\n",
       "</tr>\n",
       "<tr>\n",
       "  <th>kidslt6</th>   <td>   -0.8683</td> <td>    0.119</td> <td>   -7.326</td> <td> 0.000</td> <td>   -1.101</td> <td>   -0.636</td>\n",
       "</tr>\n",
       "<tr>\n",
       "  <th>kidsge6</th>   <td>    0.0360</td> <td>    0.043</td> <td>    0.828</td> <td> 0.408</td> <td>   -0.049</td> <td>    0.121</td>\n",
       "</tr>\n",
       "<tr>\n",
       "  <th>nwifeinc</th>  <td>   -0.0120</td> <td>    0.005</td> <td>   -2.484</td> <td> 0.013</td> <td>   -0.022</td> <td>   -0.003</td>\n",
       "</tr>\n",
       "</table>"
      ],
      "text/plain": [
       "<class 'statsmodels.iolib.summary.Summary'>\n",
       "\"\"\"\n",
       "                          Probit Regression Results                           \n",
       "==============================================================================\n",
       "Dep. Variable:                   inlf   No. Observations:                  753\n",
       "Model:                         Probit   Df Residuals:                      745\n",
       "Method:                           MLE   Df Model:                            7\n",
       "Date:                Sun, 09 Apr 2023   Pseudo R-squ.:                  0.2206\n",
       "Time:                        21:46:42   Log-Likelihood:                -401.30\n",
       "converged:                       True   LL-Null:                       -514.87\n",
       "Covariance Type:            nonrobust   LLR p-value:                 2.009e-45\n",
       "==============================================================================\n",
       "                 coef    std err          z      P>|z|      [0.025      0.975]\n",
       "------------------------------------------------------------------------------\n",
       "Intercept      0.2701      0.509      0.531      0.595      -0.727       1.267\n",
       "educ           0.1309      0.025      5.183      0.000       0.081       0.180\n",
       "exper          0.1233      0.019      6.590      0.000       0.087       0.160\n",
       "expersq       -0.0019      0.001     -3.145      0.002      -0.003      -0.001\n",
       "age           -0.0529      0.008     -6.235      0.000      -0.069      -0.036\n",
       "kidslt6       -0.8683      0.119     -7.326      0.000      -1.101      -0.636\n",
       "kidsge6        0.0360      0.043      0.828      0.408      -0.049       0.121\n",
       "nwifeinc      -0.0120      0.005     -2.484      0.013      -0.022      -0.003\n",
       "==============================================================================\n",
       "\"\"\""
      ]
     },
     "execution_count": 23,
     "metadata": {},
     "output_type": "execute_result"
    }
   ],
   "source": [
    "# оценим probit модель\n",
    "fit_probit = smf.probit('inlf ~ educ + exper + expersq + age + kidslt6 + kidsge6 + nwifeinc', data=t).fit()\n",
    "fit_probit.summary()"
   ]
  },
  {
   "cell_type": "code",
   "execution_count": 24,
   "id": "f7041d6d",
   "metadata": {},
   "outputs": [
    {
     "data": {
      "text/html": [
       "<table class=\"simpletable\">\n",
       "<tr>\n",
       "      <td></td>       <th>inlf I</th>   <th>inlf II</th>\n",
       "</tr>\n",
       "<tr>\n",
       "  <th>Intercept</th>  <td>0.4255</td>   <td>0.2701</td> \n",
       "</tr>\n",
       "<tr>\n",
       "  <th></th>          <td>(0.8604)</td> <td>(0.5086)</td>\n",
       "</tr>\n",
       "<tr>\n",
       "  <th>educ</th>       <td>0.2212</td>   <td>0.1309</td> \n",
       "</tr>\n",
       "<tr>\n",
       "  <th></th>          <td>(0.0434)</td> <td>(0.0253)</td>\n",
       "</tr>\n",
       "<tr>\n",
       "  <th>exper</th>      <td>0.2059</td>   <td>0.1233</td> \n",
       "</tr>\n",
       "<tr>\n",
       "  <th></th>          <td>(0.0321)</td> <td>(0.0187)</td>\n",
       "</tr>\n",
       "<tr>\n",
       "  <th>expersq</th>    <td>-0.0032</td>  <td>-0.0019</td>\n",
       "</tr>\n",
       "<tr>\n",
       "  <th></th>          <td>(0.0010)</td> <td>(0.0006)</td>\n",
       "</tr>\n",
       "<tr>\n",
       "  <th>age</th>        <td>-0.0880</td>  <td>-0.0529</td>\n",
       "</tr>\n",
       "<tr>\n",
       "  <th></th>          <td>(0.0146)</td> <td>(0.0085)</td>\n",
       "</tr>\n",
       "<tr>\n",
       "  <th>kidslt6</th>    <td>-1.4434</td>  <td>-0.8683</td>\n",
       "</tr>\n",
       "<tr>\n",
       "  <th></th>          <td>(0.2036)</td> <td>(0.1185)</td>\n",
       "</tr>\n",
       "<tr>\n",
       "  <th>kidsge6</th>    <td>0.0601</td>   <td>0.0360</td> \n",
       "</tr>\n",
       "<tr>\n",
       "  <th></th>          <td>(0.0748)</td> <td>(0.0435)</td>\n",
       "</tr>\n",
       "<tr>\n",
       "  <th>nwifeinc</th>   <td>-0.0213</td>  <td>-0.0120</td>\n",
       "</tr>\n",
       "<tr>\n",
       "  <th></th>          <td>(0.0084)</td> <td>(0.0048)</td>\n",
       "</tr>\n",
       "</table>"
      ],
      "text/plain": [
       "<class 'statsmodels.iolib.summary2.Summary'>\n",
       "\"\"\"\n",
       "\n",
       "===========================\n",
       "           inlf I  inlf II \n",
       "---------------------------\n",
       "Intercept 0.4255   0.2701  \n",
       "          (0.8604) (0.5086)\n",
       "educ      0.2212   0.1309  \n",
       "          (0.0434) (0.0253)\n",
       "exper     0.2059   0.1233  \n",
       "          (0.0321) (0.0187)\n",
       "expersq   -0.0032  -0.0019 \n",
       "          (0.0010) (0.0006)\n",
       "age       -0.0880  -0.0529 \n",
       "          (0.0146) (0.0085)\n",
       "kidslt6   -1.4434  -0.8683 \n",
       "          (0.2036) (0.1185)\n",
       "kidsge6   0.0601   0.0360  \n",
       "          (0.0748) (0.0435)\n",
       "nwifeinc  -0.0213  -0.0120 \n",
       "          (0.0084) (0.0048)\n",
       "===========================\n",
       "Standard errors in\n",
       "parentheses.\n",
       "\"\"\""
      ]
     },
     "execution_count": 24,
     "metadata": {},
     "output_type": "execute_result"
    }
   ],
   "source": [
    "# сравним оценки коэффициентов в logit и probit моделях\n",
    "summary_col([fit_logit, fit_probit])"
   ]
  },
  {
   "cell_type": "code",
   "execution_count": 25,
   "id": "c873e056",
   "metadata": {},
   "outputs": [],
   "source": [
    "# создадим новые наблюдения\n",
    "new = pd.DataFrame({'age': np.arange(5, 100, step=0.5)})\n",
    "new['educ'] = 10\n",
    "new['exper'] = 4\n",
    "new['expersq'] = 16\n",
    "new['kidslt6'] = 1\n",
    "new['kidsge6'] = 0\n",
    "new['nwifeinc'] = 16"
   ]
  },
  {
   "cell_type": "code",
   "execution_count": 26,
   "id": "62569c00",
   "metadata": {},
   "outputs": [
    {
     "data": {
      "text/html": [
       "<div>\n",
       "<style scoped>\n",
       "    .dataframe tbody tr th:only-of-type {\n",
       "        vertical-align: middle;\n",
       "    }\n",
       "\n",
       "    .dataframe tbody tr th {\n",
       "        vertical-align: top;\n",
       "    }\n",
       "\n",
       "    .dataframe thead th {\n",
       "        text-align: right;\n",
       "    }\n",
       "</style>\n",
       "<table border=\"1\" class=\"dataframe\">\n",
       "  <thead>\n",
       "    <tr style=\"text-align: right;\">\n",
       "      <th></th>\n",
       "      <th>age</th>\n",
       "      <th>educ</th>\n",
       "      <th>exper</th>\n",
       "      <th>expersq</th>\n",
       "      <th>kidslt6</th>\n",
       "      <th>kidsge6</th>\n",
       "      <th>nwifeinc</th>\n",
       "    </tr>\n",
       "  </thead>\n",
       "  <tbody>\n",
       "    <tr>\n",
       "      <th>0</th>\n",
       "      <td>5.0</td>\n",
       "      <td>10</td>\n",
       "      <td>4</td>\n",
       "      <td>16</td>\n",
       "      <td>1</td>\n",
       "      <td>0</td>\n",
       "      <td>16</td>\n",
       "    </tr>\n",
       "    <tr>\n",
       "      <th>1</th>\n",
       "      <td>5.5</td>\n",
       "      <td>10</td>\n",
       "      <td>4</td>\n",
       "      <td>16</td>\n",
       "      <td>1</td>\n",
       "      <td>0</td>\n",
       "      <td>16</td>\n",
       "    </tr>\n",
       "    <tr>\n",
       "      <th>2</th>\n",
       "      <td>6.0</td>\n",
       "      <td>10</td>\n",
       "      <td>4</td>\n",
       "      <td>16</td>\n",
       "      <td>1</td>\n",
       "      <td>0</td>\n",
       "      <td>16</td>\n",
       "    </tr>\n",
       "    <tr>\n",
       "      <th>3</th>\n",
       "      <td>6.5</td>\n",
       "      <td>10</td>\n",
       "      <td>4</td>\n",
       "      <td>16</td>\n",
       "      <td>1</td>\n",
       "      <td>0</td>\n",
       "      <td>16</td>\n",
       "    </tr>\n",
       "    <tr>\n",
       "      <th>4</th>\n",
       "      <td>7.0</td>\n",
       "      <td>10</td>\n",
       "      <td>4</td>\n",
       "      <td>16</td>\n",
       "      <td>1</td>\n",
       "      <td>0</td>\n",
       "      <td>16</td>\n",
       "    </tr>\n",
       "  </tbody>\n",
       "</table>\n",
       "</div>"
      ],
      "text/plain": [
       "   age  educ  exper  expersq  kidslt6  kidsge6  nwifeinc\n",
       "0  5.0    10      4       16        1        0        16\n",
       "1  5.5    10      4       16        1        0        16\n",
       "2  6.0    10      4       16        1        0        16\n",
       "3  6.5    10      4       16        1        0        16\n",
       "4  7.0    10      4       16        1        0        16"
      ]
     },
     "execution_count": 26,
     "metadata": {},
     "output_type": "execute_result"
    }
   ],
   "source": [
    "new.head()"
   ]
  },
  {
   "cell_type": "code",
   "execution_count": 27,
   "id": "f66a1dad",
   "metadata": {},
   "outputs": [
    {
     "data": {
      "text/html": [
       "<div>\n",
       "<style scoped>\n",
       "    .dataframe tbody tr th:only-of-type {\n",
       "        vertical-align: middle;\n",
       "    }\n",
       "\n",
       "    .dataframe tbody tr th {\n",
       "        vertical-align: top;\n",
       "    }\n",
       "\n",
       "    .dataframe thead th {\n",
       "        text-align: right;\n",
       "    }\n",
       "</style>\n",
       "<table border=\"1\" class=\"dataframe\">\n",
       "  <thead>\n",
       "    <tr style=\"text-align: right;\">\n",
       "      <th></th>\n",
       "      <th>age</th>\n",
       "      <th>educ</th>\n",
       "      <th>exper</th>\n",
       "      <th>expersq</th>\n",
       "      <th>kidslt6</th>\n",
       "      <th>kidsge6</th>\n",
       "      <th>nwifeinc</th>\n",
       "      <th>phat</th>\n",
       "    </tr>\n",
       "  </thead>\n",
       "  <tbody>\n",
       "    <tr>\n",
       "      <th>0</th>\n",
       "      <td>5.0</td>\n",
       "      <td>10</td>\n",
       "      <td>4</td>\n",
       "      <td>16</td>\n",
       "      <td>1</td>\n",
       "      <td>0</td>\n",
       "      <td>16</td>\n",
       "      <td>0.765876</td>\n",
       "    </tr>\n",
       "    <tr>\n",
       "      <th>1</th>\n",
       "      <td>5.5</td>\n",
       "      <td>10</td>\n",
       "      <td>4</td>\n",
       "      <td>16</td>\n",
       "      <td>1</td>\n",
       "      <td>0</td>\n",
       "      <td>16</td>\n",
       "      <td>0.757892</td>\n",
       "    </tr>\n",
       "    <tr>\n",
       "      <th>2</th>\n",
       "      <td>6.0</td>\n",
       "      <td>10</td>\n",
       "      <td>4</td>\n",
       "      <td>16</td>\n",
       "      <td>1</td>\n",
       "      <td>0</td>\n",
       "      <td>16</td>\n",
       "      <td>0.749725</td>\n",
       "    </tr>\n",
       "    <tr>\n",
       "      <th>3</th>\n",
       "      <td>6.5</td>\n",
       "      <td>10</td>\n",
       "      <td>4</td>\n",
       "      <td>16</td>\n",
       "      <td>1</td>\n",
       "      <td>0</td>\n",
       "      <td>16</td>\n",
       "      <td>0.741376</td>\n",
       "    </tr>\n",
       "    <tr>\n",
       "      <th>4</th>\n",
       "      <td>7.0</td>\n",
       "      <td>10</td>\n",
       "      <td>4</td>\n",
       "      <td>16</td>\n",
       "      <td>1</td>\n",
       "      <td>0</td>\n",
       "      <td>16</td>\n",
       "      <td>0.732848</td>\n",
       "    </tr>\n",
       "  </tbody>\n",
       "</table>\n",
       "</div>"
      ],
      "text/plain": [
       "   age  educ  exper  expersq  kidslt6  kidsge6  nwifeinc      phat\n",
       "0  5.0    10      4       16        1        0        16  0.765876\n",
       "1  5.5    10      4       16        1        0        16  0.757892\n",
       "2  6.0    10      4       16        1        0        16  0.749725\n",
       "3  6.5    10      4       16        1        0        16  0.741376\n",
       "4  7.0    10      4       16        1        0        16  0.732848"
      ]
     },
     "execution_count": 27,
     "metadata": {},
     "output_type": "execute_result"
    }
   ],
   "source": [
    "# спрогнозируем для новых женщин вероятность того, что inlf = 1 (будут работать)\n",
    "new['phat'] = fit_logit.predict(new)\n",
    "new.head()"
   ]
  },
  {
   "cell_type": "code",
   "execution_count": 38,
   "id": "fc8b2a88",
   "metadata": {},
   "outputs": [],
   "source": [
    "logit = sm.genmod.families.links.logit()\n",
    "probit = sm.genmod.families.links.probit()\n",
    "binomial = sm.families.Binomial"
   ]
  },
  {
   "cell_type": "code",
   "execution_count": 39,
   "id": "f893abf4",
   "metadata": {},
   "outputs": [],
   "source": [
    "# рассмотрим альтернативную команду для оценивания моделей бинарного выбора\n",
    "fit_logit_bis = smf.glm('inlf ~ educ + exper + expersq + age + kidslt6 + kidsge6 + nwifeinc', data=t,\n",
    "                        family = binomial(logit)).fit()"
   ]
  },
  {
   "cell_type": "code",
   "execution_count": 40,
   "id": "905479b7",
   "metadata": {},
   "outputs": [
    {
     "data": {
      "text/html": [
       "<table class=\"simpletable\">\n",
       "<caption>Generalized Linear Model Regression Results</caption>\n",
       "<tr>\n",
       "  <th>Dep. Variable:</th>         <td>inlf</td>       <th>  No. Observations:  </th>  <td>   753</td> \n",
       "</tr>\n",
       "<tr>\n",
       "  <th>Model:</th>                  <td>GLM</td>       <th>  Df Residuals:      </th>  <td>   745</td> \n",
       "</tr>\n",
       "<tr>\n",
       "  <th>Model Family:</th>        <td>Binomial</td>     <th>  Df Model:          </th>  <td>     7</td> \n",
       "</tr>\n",
       "<tr>\n",
       "  <th>Link Function:</th>         <td>logit</td>      <th>  Scale:             </th> <td>  1.0000</td>\n",
       "</tr>\n",
       "<tr>\n",
       "  <th>Method:</th>                <td>IRLS</td>       <th>  Log-Likelihood:    </th> <td> -401.77</td>\n",
       "</tr>\n",
       "<tr>\n",
       "  <th>Date:</th>            <td>Sun, 09 Apr 2023</td> <th>  Deviance:          </th> <td>  803.53</td>\n",
       "</tr>\n",
       "<tr>\n",
       "  <th>Time:</th>                <td>21:47:54</td>     <th>  Pearson chi2:      </th>  <td>  732.</td> \n",
       "</tr>\n",
       "<tr>\n",
       "  <th>No. Iterations:</th>          <td>5</td>        <th>                     </th>     <td> </td>   \n",
       "</tr>\n",
       "<tr>\n",
       "  <th>Covariance Type:</th>     <td>nonrobust</td>    <th>                     </th>     <td> </td>   \n",
       "</tr>\n",
       "</table>\n",
       "<table class=\"simpletable\">\n",
       "<tr>\n",
       "      <td></td>         <th>coef</th>     <th>std err</th>      <th>z</th>      <th>P>|z|</th>  <th>[0.025</th>    <th>0.975]</th>  \n",
       "</tr>\n",
       "<tr>\n",
       "  <th>Intercept</th> <td>    0.4255</td> <td>    0.860</td> <td>    0.494</td> <td> 0.621</td> <td>   -1.261</td> <td>    2.112</td>\n",
       "</tr>\n",
       "<tr>\n",
       "  <th>educ</th>      <td>    0.2212</td> <td>    0.043</td> <td>    5.091</td> <td> 0.000</td> <td>    0.136</td> <td>    0.306</td>\n",
       "</tr>\n",
       "<tr>\n",
       "  <th>exper</th>     <td>    0.2059</td> <td>    0.032</td> <td>    6.422</td> <td> 0.000</td> <td>    0.143</td> <td>    0.269</td>\n",
       "</tr>\n",
       "<tr>\n",
       "  <th>expersq</th>   <td>   -0.0032</td> <td>    0.001</td> <td>   -3.104</td> <td> 0.002</td> <td>   -0.005</td> <td>   -0.001</td>\n",
       "</tr>\n",
       "<tr>\n",
       "  <th>age</th>       <td>   -0.0880</td> <td>    0.015</td> <td>   -6.040</td> <td> 0.000</td> <td>   -0.117</td> <td>   -0.059</td>\n",
       "</tr>\n",
       "<tr>\n",
       "  <th>kidslt6</th>   <td>   -1.4434</td> <td>    0.204</td> <td>   -7.090</td> <td> 0.000</td> <td>   -1.842</td> <td>   -1.044</td>\n",
       "</tr>\n",
       "<tr>\n",
       "  <th>kidsge6</th>   <td>    0.0601</td> <td>    0.075</td> <td>    0.804</td> <td> 0.422</td> <td>   -0.086</td> <td>    0.207</td>\n",
       "</tr>\n",
       "<tr>\n",
       "  <th>nwifeinc</th>  <td>   -0.0213</td> <td>    0.008</td> <td>   -2.535</td> <td> 0.011</td> <td>   -0.038</td> <td>   -0.005</td>\n",
       "</tr>\n",
       "</table>"
      ],
      "text/plain": [
       "<class 'statsmodels.iolib.summary.Summary'>\n",
       "\"\"\"\n",
       "                 Generalized Linear Model Regression Results                  \n",
       "==============================================================================\n",
       "Dep. Variable:                   inlf   No. Observations:                  753\n",
       "Model:                            GLM   Df Residuals:                      745\n",
       "Model Family:                Binomial   Df Model:                            7\n",
       "Link Function:                  logit   Scale:                          1.0000\n",
       "Method:                          IRLS   Log-Likelihood:                -401.77\n",
       "Date:                Sun, 09 Apr 2023   Deviance:                       803.53\n",
       "Time:                        21:47:54   Pearson chi2:                     732.\n",
       "No. Iterations:                     5                                         \n",
       "Covariance Type:            nonrobust                                         \n",
       "==============================================================================\n",
       "                 coef    std err          z      P>|z|      [0.025      0.975]\n",
       "------------------------------------------------------------------------------\n",
       "Intercept      0.4255      0.860      0.494      0.621      -1.261       2.112\n",
       "educ           0.2212      0.043      5.091      0.000       0.136       0.306\n",
       "exper          0.2059      0.032      6.422      0.000       0.143       0.269\n",
       "expersq       -0.0032      0.001     -3.104      0.002      -0.005      -0.001\n",
       "age           -0.0880      0.015     -6.040      0.000      -0.117      -0.059\n",
       "kidslt6       -1.4434      0.204     -7.090      0.000      -1.842      -1.044\n",
       "kidsge6        0.0601      0.075      0.804      0.422      -0.086       0.207\n",
       "nwifeinc      -0.0213      0.008     -2.535      0.011      -0.038      -0.005\n",
       "==============================================================================\n",
       "\"\"\""
      ]
     },
     "execution_count": 40,
     "metadata": {},
     "output_type": "execute_result"
    }
   ],
   "source": [
    "fit_logit_bis.summary()"
   ]
  },
  {
   "cell_type": "code",
   "execution_count": 41,
   "id": "f1b765b2",
   "metadata": {},
   "outputs": [
    {
     "data": {
      "text/html": [
       "<div>\n",
       "<style scoped>\n",
       "    .dataframe tbody tr th:only-of-type {\n",
       "        vertical-align: middle;\n",
       "    }\n",
       "\n",
       "    .dataframe tbody tr th {\n",
       "        vertical-align: top;\n",
       "    }\n",
       "\n",
       "    .dataframe thead th {\n",
       "        text-align: right;\n",
       "    }\n",
       "</style>\n",
       "<table border=\"1\" class=\"dataframe\">\n",
       "  <thead>\n",
       "    <tr style=\"text-align: right;\">\n",
       "      <th></th>\n",
       "      <th>mean</th>\n",
       "      <th>mean_se</th>\n",
       "      <th>mean_ci_lower</th>\n",
       "      <th>mean_ci_upper</th>\n",
       "    </tr>\n",
       "  </thead>\n",
       "  <tbody>\n",
       "    <tr>\n",
       "      <th>0</th>\n",
       "      <td>0.765876</td>\n",
       "      <td>0.098079</td>\n",
       "      <td>0.528248</td>\n",
       "      <td>0.905272</td>\n",
       "    </tr>\n",
       "    <tr>\n",
       "      <th>1</th>\n",
       "      <td>0.757892</td>\n",
       "      <td>0.099175</td>\n",
       "      <td>0.520444</td>\n",
       "      <td>0.900294</td>\n",
       "    </tr>\n",
       "    <tr>\n",
       "      <th>2</th>\n",
       "      <td>0.749725</td>\n",
       "      <td>0.100202</td>\n",
       "      <td>0.512620</td>\n",
       "      <td>0.895088</td>\n",
       "    </tr>\n",
       "    <tr>\n",
       "      <th>3</th>\n",
       "      <td>0.741376</td>\n",
       "      <td>0.101155</td>\n",
       "      <td>0.504780</td>\n",
       "      <td>0.889648</td>\n",
       "    </tr>\n",
       "    <tr>\n",
       "      <th>4</th>\n",
       "      <td>0.732848</td>\n",
       "      <td>0.102030</td>\n",
       "      <td>0.496926</td>\n",
       "      <td>0.883966</td>\n",
       "    </tr>\n",
       "    <tr>\n",
       "      <th>...</th>\n",
       "      <td>...</td>\n",
       "      <td>...</td>\n",
       "      <td>...</td>\n",
       "      <td>...</td>\n",
       "    </tr>\n",
       "    <tr>\n",
       "      <th>185</th>\n",
       "      <td>0.000951</td>\n",
       "      <td>0.000850</td>\n",
       "      <td>0.000165</td>\n",
       "      <td>0.005468</td>\n",
       "    </tr>\n",
       "    <tr>\n",
       "      <th>186</th>\n",
       "      <td>0.000910</td>\n",
       "      <td>0.000820</td>\n",
       "      <td>0.000156</td>\n",
       "      <td>0.005305</td>\n",
       "    </tr>\n",
       "    <tr>\n",
       "      <th>187</th>\n",
       "      <td>0.000871</td>\n",
       "      <td>0.000791</td>\n",
       "      <td>0.000147</td>\n",
       "      <td>0.005148</td>\n",
       "    </tr>\n",
       "    <tr>\n",
       "      <th>188</th>\n",
       "      <td>0.000833</td>\n",
       "      <td>0.000763</td>\n",
       "      <td>0.000139</td>\n",
       "      <td>0.004995</td>\n",
       "    </tr>\n",
       "    <tr>\n",
       "      <th>189</th>\n",
       "      <td>0.000798</td>\n",
       "      <td>0.000735</td>\n",
       "      <td>0.000131</td>\n",
       "      <td>0.004847</td>\n",
       "    </tr>\n",
       "  </tbody>\n",
       "</table>\n",
       "<p>190 rows × 4 columns</p>\n",
       "</div>"
      ],
      "text/plain": [
       "         mean   mean_se  mean_ci_lower  mean_ci_upper\n",
       "0    0.765876  0.098079       0.528248       0.905272\n",
       "1    0.757892  0.099175       0.520444       0.900294\n",
       "2    0.749725  0.100202       0.512620       0.895088\n",
       "3    0.741376  0.101155       0.504780       0.889648\n",
       "4    0.732848  0.102030       0.496926       0.883966\n",
       "..        ...       ...            ...            ...\n",
       "185  0.000951  0.000850       0.000165       0.005468\n",
       "186  0.000910  0.000820       0.000156       0.005305\n",
       "187  0.000871  0.000791       0.000147       0.005148\n",
       "188  0.000833  0.000763       0.000139       0.004995\n",
       "189  0.000798  0.000735       0.000131       0.004847\n",
       "\n",
       "[190 rows x 4 columns]"
      ]
     },
     "execution_count": 41,
     "metadata": {},
     "output_type": "execute_result"
    }
   ],
   "source": [
    "preds = fit_logit_bis.get_prediction(new).summary_frame()\n",
    "preds"
   ]
  },
  {
   "cell_type": "code",
   "execution_count": 42,
   "id": "03e5d884",
   "metadata": {},
   "outputs": [
    {
     "data": {
      "text/plain": [
       "<matplotlib.collections.PolyCollection at 0x7f8f3474ec10>"
      ]
     },
     "execution_count": 42,
     "metadata": {},
     "output_type": "execute_result"
    },
    {
     "data": {
      "image/png": "[encoded data removed]",
      "text/plain": [
       "<Figure size 432x288 with 1 Axes>"
      ]
     },
     "metadata": {
      "needs_background": "light"
     },
     "output_type": "display_data"
    }
   ],
   "source": [
    "# изобразим на графике зависимость вероятности того, что inlf = 1 от возраста женщины\n",
    "preds['age'] = new['age']\n",
    "sns.lineplot(data=preds, x='age', y='mean');\n",
    "plt.fill_between(preds['age'], preds['mean_ci_lower'], preds['mean_ci_upper'], color='blue', alpha=0.1)"
   ]
  },
  {
   "cell_type": "code",
   "execution_count": 43,
   "id": "4739f4fa",
   "metadata": {},
   "outputs": [
    {
     "data": {
      "text/plain": [
       "<class 'statsmodels.stats.contrast.ContrastResults'>\n",
       "<Wald test (chi2): statistic=[[53.54026164]], p-value=2.3652655374994114e-12, df_denom=2>"
      ]
     },
     "execution_count": 43,
     "metadata": {},
     "output_type": "execute_result"
    }
   ],
   "source": [
    "# проверим гипотезу о том, что количество детей младше и старше 6 лет не влияет на вероятность того, что женщина будет работать\n",
    "# с помощью теста Вальда\n",
    "hypo = 'kidslt6 = 0, kidsge6 = 0'\n",
    "fit_logit.wald_test(hypo)"
   ]
  },
  {
   "cell_type": "code",
   "execution_count": 44,
   "id": "c079fdc6",
   "metadata": {},
   "outputs": [
    {
     "data": {
      "text/html": [
       "<table class=\"simpletable\">\n",
       "<caption>Logit Marginal Effects</caption>\n",
       "<tr>\n",
       "  <th>Dep. Variable:</th>  <td>inlf</td>  \n",
       "</tr>\n",
       "<tr>\n",
       "  <th>Method:</th>         <td>dydx</td>  \n",
       "</tr>\n",
       "<tr>\n",
       "  <th>At:</th>            <td>overall</td>\n",
       "</tr>\n",
       "</table>\n",
       "<table class=\"simpletable\">\n",
       "<tr>\n",
       "      <th></th>        <th>dy/dx</th>    <th>std err</th>      <th>z</th>      <th>P>|z|</th>  <th>[0.025</th>    <th>0.975]</th>  \n",
       "</tr>\n",
       "<tr>\n",
       "  <th>educ</th>     <td>    0.0395</td> <td>    0.007</td> <td>    5.414</td> <td> 0.000</td> <td>    0.025</td> <td>    0.054</td>\n",
       "</tr>\n",
       "<tr>\n",
       "  <th>exper</th>    <td>    0.0368</td> <td>    0.005</td> <td>    7.139</td> <td> 0.000</td> <td>    0.027</td> <td>    0.047</td>\n",
       "</tr>\n",
       "<tr>\n",
       "  <th>expersq</th>  <td>   -0.0006</td> <td>    0.000</td> <td>   -3.176</td> <td> 0.001</td> <td>   -0.001</td> <td>   -0.000</td>\n",
       "</tr>\n",
       "<tr>\n",
       "  <th>age</th>      <td>   -0.0157</td> <td>    0.002</td> <td>   -6.603</td> <td> 0.000</td> <td>   -0.020</td> <td>   -0.011</td>\n",
       "</tr>\n",
       "<tr>\n",
       "  <th>kidslt6</th>  <td>   -0.2578</td> <td>    0.032</td> <td>   -8.070</td> <td> 0.000</td> <td>   -0.320</td> <td>   -0.195</td>\n",
       "</tr>\n",
       "<tr>\n",
       "  <th>kidsge6</th>  <td>    0.0107</td> <td>    0.013</td> <td>    0.805</td> <td> 0.421</td> <td>   -0.015</td> <td>    0.037</td>\n",
       "</tr>\n",
       "<tr>\n",
       "  <th>nwifeinc</th> <td>   -0.0038</td> <td>    0.001</td> <td>   -2.571</td> <td> 0.010</td> <td>   -0.007</td> <td>   -0.001</td>\n",
       "</tr>\n",
       "</table>"
      ],
      "text/plain": [
       "<class 'statsmodels.iolib.summary.Summary'>\n",
       "\"\"\"\n",
       "        Logit Marginal Effects       \n",
       "=====================================\n",
       "Dep. Variable:                   inlf\n",
       "Method:                          dydx\n",
       "At:                           overall\n",
       "==============================================================================\n",
       "                dy/dx    std err          z      P>|z|      [0.025      0.975]\n",
       "------------------------------------------------------------------------------\n",
       "educ           0.0395      0.007      5.414      0.000       0.025       0.054\n",
       "exper          0.0368      0.005      7.139      0.000       0.027       0.047\n",
       "expersq       -0.0006      0.000     -3.176      0.001      -0.001      -0.000\n",
       "age           -0.0157      0.002     -6.603      0.000      -0.020      -0.011\n",
       "kidslt6       -0.2578      0.032     -8.070      0.000      -0.320      -0.195\n",
       "kidsge6        0.0107      0.013      0.805      0.421      -0.015       0.037\n",
       "nwifeinc      -0.0038      0.001     -2.571      0.010      -0.007      -0.001\n",
       "==============================================================================\n",
       "\"\"\""
      ]
     },
     "execution_count": 44,
     "metadata": {},
     "output_type": "execute_result"
    }
   ],
   "source": [
    "# рассчитаем средние предельные эффекты\n",
    "fit_logit.get_margeff(at='overall').summary()"
   ]
  },
  {
   "cell_type": "code",
   "execution_count": 45,
   "id": "b2dacbcc",
   "metadata": {},
   "outputs": [
    {
     "data": {
      "text/html": [
       "<table class=\"simpletable\">\n",
       "<caption>Logit Marginal Effects</caption>\n",
       "<tr>\n",
       "  <th>Dep. Variable:</th> <td>inlf</td>\n",
       "</tr>\n",
       "<tr>\n",
       "  <th>Method:</th>        <td>dydx</td>\n",
       "</tr>\n",
       "<tr>\n",
       "  <th>At:</th>            <td>mean</td>\n",
       "</tr>\n",
       "</table>\n",
       "<table class=\"simpletable\">\n",
       "<tr>\n",
       "      <th></th>        <th>dy/dx</th>    <th>std err</th>      <th>z</th>      <th>P>|z|</th>  <th>[0.025</th>    <th>0.975]</th>  \n",
       "</tr>\n",
       "<tr>\n",
       "  <th>educ</th>     <td>    0.0538</td> <td>    0.011</td> <td>    5.092</td> <td> 0.000</td> <td>    0.033</td> <td>    0.074</td>\n",
       "</tr>\n",
       "<tr>\n",
       "  <th>exper</th>    <td>    0.0501</td> <td>    0.008</td> <td>    6.397</td> <td> 0.000</td> <td>    0.035</td> <td>    0.065</td>\n",
       "</tr>\n",
       "<tr>\n",
       "  <th>expersq</th>  <td>   -0.0008</td> <td>    0.000</td> <td>   -3.096</td> <td> 0.002</td> <td>   -0.001</td> <td>   -0.000</td>\n",
       "</tr>\n",
       "<tr>\n",
       "  <th>age</th>      <td>   -0.0214</td> <td>    0.004</td> <td>   -6.046</td> <td> 0.000</td> <td>   -0.028</td> <td>   -0.014</td>\n",
       "</tr>\n",
       "<tr>\n",
       "  <th>kidslt6</th>  <td>   -0.3509</td> <td>    0.050</td> <td>   -7.070</td> <td> 0.000</td> <td>   -0.448</td> <td>   -0.254</td>\n",
       "</tr>\n",
       "<tr>\n",
       "  <th>kidsge6</th>  <td>    0.0146</td> <td>    0.018</td> <td>    0.804</td> <td> 0.422</td> <td>   -0.021</td> <td>    0.050</td>\n",
       "</tr>\n",
       "<tr>\n",
       "  <th>nwifeinc</th> <td>   -0.0052</td> <td>    0.002</td> <td>   -2.534</td> <td> 0.011</td> <td>   -0.009</td> <td>   -0.001</td>\n",
       "</tr>\n",
       "</table>"
      ],
      "text/plain": [
       "<class 'statsmodels.iolib.summary.Summary'>\n",
       "\"\"\"\n",
       "        Logit Marginal Effects       \n",
       "=====================================\n",
       "Dep. Variable:                   inlf\n",
       "Method:                          dydx\n",
       "At:                              mean\n",
       "==============================================================================\n",
       "                dy/dx    std err          z      P>|z|      [0.025      0.975]\n",
       "------------------------------------------------------------------------------\n",
       "educ           0.0538      0.011      5.092      0.000       0.033       0.074\n",
       "exper          0.0501      0.008      6.397      0.000       0.035       0.065\n",
       "expersq       -0.0008      0.000     -3.096      0.002      -0.001      -0.000\n",
       "age           -0.0214      0.004     -6.046      0.000      -0.028      -0.014\n",
       "kidslt6       -0.3509      0.050     -7.070      0.000      -0.448      -0.254\n",
       "kidsge6        0.0146      0.018      0.804      0.422      -0.021       0.050\n",
       "nwifeinc      -0.0052      0.002     -2.534      0.011      -0.009      -0.001\n",
       "==============================================================================\n",
       "\"\"\""
      ]
     },
     "execution_count": 45,
     "metadata": {},
     "output_type": "execute_result"
    }
   ],
   "source": [
    "# рассчитаем предельные эффекты для \"среднего\" наблюдения\n",
    "fit_logit.get_margeff(at='mean').summary()"
   ]
  },
  {
   "cell_type": "code",
   "execution_count": 46,
   "id": "80236390",
   "metadata": {},
   "outputs": [],
   "source": [
    "X = t[['educ', 'exper', 'expersq', 'age', 'kidslt6', 'kidsge6', 'nwifeinc']]\n",
    "y = t['inlf']"
   ]
  },
  {
   "cell_type": "code",
   "execution_count": 47,
   "id": "86f46abe",
   "metadata": {},
   "outputs": [],
   "source": [
    "X_train, X_test, y_train, y_test = train_test_split(X, y, test_size=0.2, random_state=777)"
   ]
  },
  {
   "cell_type": "code",
   "execution_count": 48,
   "id": "a432eac1",
   "metadata": {},
   "outputs": [],
   "source": [
    "sk_logit = LogisticRegression(penalty='none',  max_iter=1000).fit(X_train, y_train)"
   ]
  },
  {
   "cell_type": "code",
   "execution_count": 49,
   "id": "e1dcde05",
   "metadata": {},
   "outputs": [
    {
     "data": {
      "text/plain": [
       "array([[ 0.23369565,  0.24266178, -0.00431764, -0.09684276, -1.51987061,\n",
       "         0.05835955, -0.01972794]])"
      ]
     },
     "execution_count": 49,
     "metadata": {},
     "output_type": "execute_result"
    }
   ],
   "source": [
    "sk_logit.coef_"
   ]
  },
  {
   "cell_type": "code",
   "execution_count": 50,
   "id": "18f45697",
   "metadata": {},
   "outputs": [
    {
     "data": {
      "text/plain": [
       "array([0.51347541])"
      ]
     },
     "execution_count": 50,
     "metadata": {},
     "output_type": "execute_result"
    }
   ],
   "source": [
    "sk_logit.intercept_"
   ]
  },
  {
   "cell_type": "code",
   "execution_count": 51,
   "id": "9311a541",
   "metadata": {},
   "outputs": [],
   "source": [
    "prob_pred = sk_logit.predict_proba(X_test)\n",
    "prob_pred = prob_pred[:, 1]"
   ]
  },
  {
   "cell_type": "code",
   "execution_count": 52,
   "id": "85644e19",
   "metadata": {},
   "outputs": [
    {
     "data": {
      "text/plain": [
       "array([0.76846809, 0.94470067, 0.93133593, 0.62346108, 0.23504335,\n",
       "       0.91752442, 0.91719988, 0.8320266 , 0.70456353, 0.92292415,\n",
       "       0.52103883, 0.87106524, 0.82301592, 0.59772907, 0.23540533,\n",
       "       0.18646745, 0.77104492, 0.20636924, 0.76633065, 0.30848067,\n",
       "       0.70399737, 0.21367654, 0.07091306, 0.9600996 , 0.62846069,\n",
       "       0.44327151, 0.8652395 , 0.59544058, 0.63079118, 0.79112589,\n",
       "       0.14233592, 0.40377942, 0.04857995, 0.54618881, 0.84296143,\n",
       "       0.96068848, 0.58254983, 0.91479579, 0.89919922, 0.87537608,\n",
       "       0.93050729, 0.06105931, 0.30323255, 0.39983122, 0.66385527,\n",
       "       0.92986448, 0.77051853, 0.43605986, 0.9671568 , 0.49361907,\n",
       "       0.69749997, 0.69828266, 0.91099989, 0.79430692, 0.13411641,\n",
       "       0.80281808, 0.68643284, 0.82787002, 0.75606514, 0.67800484,\n",
       "       0.73842717, 0.65101702, 0.80518468, 0.93835694, 0.93188958,\n",
       "       0.47639261, 0.11694663, 0.21644067, 0.95220381, 0.57738051,\n",
       "       0.19178104, 0.71297022, 0.40005533, 0.50553914, 0.69248966,\n",
       "       0.5828267 , 0.50180962, 0.95455108, 0.6596453 , 0.87124156,\n",
       "       0.71424503, 0.79544837, 0.19585277, 0.38613469, 0.38235449,\n",
       "       0.13745135, 0.74937567, 0.53354383, 0.46999888, 0.79533136,\n",
       "       0.58337911, 0.86935221, 0.95110009, 0.82923666, 0.76072224,\n",
       "       0.83008802, 0.37365101, 0.80415712, 0.42136606, 0.71612853,\n",
       "       0.81315908, 0.22539217, 0.21960708, 0.89617728, 0.60380931,\n",
       "       0.69051262, 0.90379794, 0.47069609, 0.51322457, 0.77735248,\n",
       "       0.69231684, 0.26275816, 0.5091893 , 0.29857015, 0.77728824,\n",
       "       0.35683339, 0.47911823, 0.79744428, 0.56003706, 0.76847876,\n",
       "       0.6631279 , 0.85604706, 0.68369616, 0.91561165, 0.55465512,\n",
       "       0.8529423 , 0.36066832, 0.91681093, 0.50413843, 0.88936293,\n",
       "       0.70689746, 0.16071967, 0.74774585, 0.18029831, 0.37907669,\n",
       "       0.09993676, 0.92523967, 0.04111864, 0.87910363, 0.62191845,\n",
       "       0.7089504 , 0.30148856, 0.90918885, 0.14981664, 0.76387512,\n",
       "       0.90444573, 0.90471913, 0.14858268, 0.20610904, 0.22931657,\n",
       "       0.28788364])"
      ]
     },
     "execution_count": 52,
     "metadata": {},
     "output_type": "execute_result"
    }
   ],
   "source": [
    "prob_pred"
   ]
  },
  {
   "cell_type": "code",
   "execution_count": 53,
   "id": "2b4bb681",
   "metadata": {},
   "outputs": [
    {
     "data": {
      "text/plain": [
       "array([[50, 17],\n",
       "       [31, 53]])"
      ]
     },
     "execution_count": 53,
     "metadata": {},
     "output_type": "execute_result"
    }
   ],
   "source": [
    "confusion_matrix(y_test, prob_pred > 0.7)"
   ]
  },
  {
   "cell_type": "code",
   "execution_count": 54,
   "id": "abd66d7d",
   "metadata": {},
   "outputs": [
    {
     "data": {
      "text/plain": [
       "array([[38, 29],\n",
       "       [21, 63]])"
      ]
     },
     "execution_count": 54,
     "metadata": {},
     "output_type": "execute_result"
    }
   ],
   "source": [
    "confusion_matrix(y_test, prob_pred > 0.58)"
   ]
  },
  {
   "cell_type": "code",
   "execution_count": 55,
   "id": "56979351",
   "metadata": {},
   "outputs": [
    {
     "data": {
      "text/plain": [
       "<AxesSubplot:>"
      ]
     },
     "execution_count": 55,
     "metadata": {},
     "output_type": "execute_result"
    },
    {
     "data": {
      "image/png": "[encoded data removed]",
      "text/plain": [
       "<Figure size 432x288 with 2 Axes>"
      ]
     },
     "metadata": {
      "needs_background": "light"
     },
     "output_type": "display_data"
    }
   ],
   "source": [
    "# матрица сопряженности\n",
    "sns.heatmap(confusion_matrix(y_test, prob_pred > 0.7), annot=True, fmt='d', cmap='Blues')"
   ]
  },
  {
   "cell_type": "code",
   "execution_count": 56,
   "id": "2152e9fb",
   "metadata": {},
   "outputs": [
    {
     "data": {
      "image/png": "[encoded data removed]",
      "text/plain": [
       "<Figure size 432x288 with 1 Axes>"
      ]
     },
     "metadata": {
      "needs_background": "light"
     },
     "output_type": "display_data"
    }
   ],
   "source": [
    "# построим ROC-кривую\n",
    "# x: FPR = FP / (FP + TN) = FP / condition Negative\n",
    "# Специфичность = 1 - FPR\n",
    "# y: TPR = TP / (TP + FN) = TP / condition Positive\n",
    "# Чувствительность = TPR\n",
    "plot_roc_curve(sk_logit, X_test, y_test);"
   ]
  },
  {
   "cell_type": "code",
   "execution_count": 57,
   "id": "8a7cad8d",
   "metadata": {},
   "outputs": [
    {
     "data": {
      "image/png": "[encoded data removed]",
      "text/plain": [
       "<Figure size 432x288 with 1 Axes>"
      ]
     },
     "metadata": {
      "needs_background": "light"
     },
     "output_type": "display_data"
    }
   ],
   "source": [
    "plot_precision_recall_curve(sk_logit, X_test, y_test);\n",
    "\n",
    "# Recall = TPR = TP / condition Positive\n",
    "# precision = TP / predicted Positive"
   ]
  }
 ],
 "metadata": {
  "kernelspec": {
   "display_name": "Python 3 (ipykernel)",
   "language": "python",
   "name": "python3"
  },
  "language_info": {
   "codemirror_mode": {
    "name": "ipython",
    "version": 3
   },
   "file_extension": ".py",
   "mimetype": "text/x-python",
   "name": "python",
   "nbconvert_exporter": "python",
   "pygments_lexer": "ipython3",
   "version": "3.9.7"
  }
 },
 "nbformat": 4,
 "nbformat_minor": 5
}
